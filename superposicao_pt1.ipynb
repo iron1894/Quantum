{
 "cells": [
  {
   "cell_type": "markdown",
   "id": "0fb325f1-0a9f-4bb1-a6dc-237f58d86372",
   "metadata": {},
   "source": [
    "### Introdução ao Princípio da Superposição\n",
    "\n",
    "Este material irá apresentar ao leitor de forma introdutória o conceito da **superposição**, um fenômeno fundamental da mecânica quântica. Iremos usar o **princípio da superposição** para construir os nossos primeiros circuitos quânticos e então realizar algumas interpretações sobre os resultados.\n",
    "\n",
    "![](https://scx2.b-cdn.net/gfx/news/hires/2014/schrodingers.png)"
   ]
  },
  {
   "cell_type": "markdown",
   "id": "53734f34-254b-42af-95cf-ac8f0db8e752",
   "metadata": {},
   "source": [
    "Primeiro, precisamos definir o que é a **superposição**. De forma abrangente, podemos enunciar o **Princípio da Superposição** da seguinte maneira:\n",
    "\n",
    "*Dados dois estados admissíveis de um sistema quântico, então a soma desses dois estados também é um estado admissível do sistema*\n",
    "(JUNIOR, Osvaldo Pessoa. Conceitos de Física Quântica 1. Editora Livraria da Fisica, 2003).\n",
    "\n",
    "Uma outra interpretação do **Princípio da Superposição** teoricamente assume que um sistema físico pode conter mais de 1 estado existindo simultanamente antes de uma medição (condição onde ocorre o **colapso de onda**).\n",
    "\n",
    "**Exemplo**: Um elétron é uma partícula subatômica, de modo que consequentemente ele está submetido às **Leis da Mecânica Quântica**. O elétron antes de sofrer uma medição poderá então, teoricamente, estar simultaneamente em mais de um estado possível dada o **Princípio da Superposição**.\n",
    "\n",
    "**Exemplo**: Se existisse uma porta quântica, ela poderia estar aberta, fechada ou ainda aberta e fechada ao mesmo tempo. Essa última possibilidade, no entanto, só existiria se você não pudesse observar, ou mesmo tocar essa porta. Caso você interagisse de alguma forma com essa “porta quântica”, a superposição simplesmente deixaria de existir. Dessa forma, a natureza colapsaria o estado da porta para as duas possibilidades da situação clássica: aberta ou fechada. (https://mundoeducacao.uol.com.br/fisica/curiosidades-fisica-quantica.htm)"
   ]
  },
  {
   "cell_type": "markdown",
   "id": "ebd4ac97-ed0f-4193-af29-7798c4c5054d",
   "metadata": {},
   "source": [
    "Então, como podemos criar uma **superposição** de estados quânticos em um circuito quântico?\n",
    "Nós iremos neste material trazer um exemplo básico de como construir um circuito quântico que realiza a superposição de estados."
   ]
  },
  {
   "cell_type": "markdown",
   "id": "e2e53dbb-5207-4dfb-bb5d-00f204d6965b",
   "metadata": {},
   "source": [
    "#### Preparando o cicruito quântico\n",
    "\n",
    "Para criar um circuito quântico usando python, iremos importar as bibliotecas do qiskit. Qiskit é um SDK de código aberto para trabalhar com computadores quânticos no nível de pulsos, circuitos e módulos de aplicações (https://qiskit.org/).\n",
    "\n",
    "Geralmente, as seguintes bibliotecas são o suficiente para o início do aprendizado:"
   ]
  },
  {
   "cell_type": "code",
   "execution_count": 1,
   "id": "e09ac6cb-d8c2-4019-a340-8289e206eba7",
   "metadata": {},
   "outputs": [],
   "source": [
    "import numpy as np\n",
    "from qiskit import *\n",
    "from qiskit import QuantumCircuit, assemble, Aer\n",
    "from qiskit.visualization import plot_histogram, plot_bloch_vector\n",
    "from math import sqrt, pi\n",
    "from qiskit.quantum_info import Statevector"
   ]
  },
  {
   "cell_type": "markdown",
   "id": "81d387ef-b634-4869-b41b-59181ae857dc",
   "metadata": {},
   "source": [
    "Perceba que nós importamos a biblioteca **numpy** muito utilizada em diversos códigos feitos em python. Também importamos todas as libs fundamentais do **Qiskit** e uma importação do **Statevector** usada para formatar os vetores de saída do processamento analítico quântico."
   ]
  },
  {
   "cell_type": "markdown",
   "id": "79a48f6b-cd02-4359-b891-2f214b43555d",
   "metadata": {},
   "source": [
    "Agora, para criar o circuito quântico, vamos precisar adicionar **qubits** no circuito. O que são esses **qubits**?\n",
    "\n",
    "*A estrutura básica de informação na computação clássica é o **bit**, a mesma estrutura análoga na computação quântica é o **bit quântico**, que é usualmente chamado de q-bit (qbit, qubit ou quibit). Um q-bit é um estado quântico da forma:*\n",
    "\n",
    "$$|\\psi\\rangle = \\alpha|0\\rangle + \\beta|1\\rangle$$\n",
    "\n",
    "(DA SILVA, Wagner Jorcuvich Nunes. Uma introdução à Computação Quântica. 2018. Tese de Doutorado. Universidade de São Paulo.)\n",
    "\n",
    "onde $\\alpha$ e $\\beta$ são números complexos de modo que $|\\alpha|^2 + |\\beta|^2 = 1$, ou seja, essas constantes assumem um \"papel probabilístico\" no estado, onde tais constantes são amplamente chamadas de **amplitudes**.\n",
    "\n",
    "Agora nós temos aqui o que chamamos de **base computacional quântica** dada pelos estados $|0\\rangle$ e $|1\\rangle$:\n",
    "\n",
    "$$|0\\rangle = \n",
    "\\begin{bmatrix} 1 \\\\ 0 \\end{bmatrix}$$ \n",
    "\n",
    "$$|1\\rangle = \n",
    "\\begin{bmatrix} 0 \\\\ 1 \\end{bmatrix}$$ "
   ]
  },
  {
   "cell_type": "markdown",
   "id": "1b65159a-23e9-424f-9079-e11caa95e4e3",
   "metadata": {},
   "source": [
    "### O circuito simples\n",
    "\n",
    "Vamos começar com o básico, iremos criar um circuito com apenas 1 qubit e tentar explorar os resultados dele.\n",
    "\n",
    "Após a inicialização das bibliotecas, para criar o **circuito quântico**, basta executarmos o seguinte trecho de código:"
   ]
  },
  {
   "cell_type": "code",
   "execution_count": 26,
   "id": "613868a8-feb9-4bd1-be1f-9b73814a7781",
   "metadata": {},
   "outputs": [],
   "source": [
    "# Criando um circuito quântico com apenas 1 qubit\n",
    "quantumCircuit = QuantumCircuit(1) "
   ]
  },
  {
   "cell_type": "markdown",
   "id": "040819bf-6bec-4502-bcfe-a8bf53b2bbde",
   "metadata": {},
   "source": [
    "Algo muito legal que podemos fazer aqui no nosso circuito quântico é definir qual o **estado de inicialização** do qubit. Para isso, vamos criar uma variável chamada *initial_state*"
   ]
  },
  {
   "cell_type": "code",
   "execution_count": 4,
   "id": "8201b819-e25c-4052-bc0b-8fc0c53f530d",
   "metadata": {},
   "outputs": [],
   "source": [
    "#Variável que irá inicializar o nosso estado do qubit em 1\n",
    "initial_state = [0,1]"
   ]
  },
  {
   "cell_type": "markdown",
   "id": "701db3f9-cdc0-4d95-8c4b-ea703ce43414",
   "metadata": {},
   "source": [
    "<font color='red'>Observação: quando iniciarmos um estado, precisamos passar 2 valores numéricos de forma que a soma das amplitudes quadradas seja igual a 1, respeitando a seguinte condição abaixo</font>\n",
    "\n",
    "$$|\\alpha|^2 + |\\beta|^2 = 1$$"
   ]
  },
  {
   "cell_type": "markdown",
   "id": "205127f6-dd39-40b1-9cf1-853007c89d44",
   "metadata": {},
   "source": [
    "Agora podemos então chamar a função *initialize* para criar o nosso estado"
   ]
  },
  {
   "cell_type": "code",
   "execution_count": 5,
   "id": "8c9edd3b-01fb-4794-b5de-475b4f521b7e",
   "metadata": {},
   "outputs": [
    {
     "data": {
      "text/plain": [
       "<qiskit.circuit.instructionset.InstructionSet at 0x249a6a85430>"
      ]
     },
     "execution_count": 5,
     "metadata": {},
     "output_type": "execute_result"
    }
   ],
   "source": [
    "#Aqui, nós estamos fazendo com que o qubit da posição 0 (0th qubit) assuma o estado |1>\n",
    "quantumCircuit.initialize(initial_state, 0)"
   ]
  },
  {
   "cell_type": "markdown",
   "id": "2e9422cf-4be0-480b-b89b-a37f5757fb82",
   "metadata": {},
   "source": [
    "E como fica a visualização deste circuito? Basta usarmos novamente uma outra função do qiskit chamada *draw*:"
   ]
  },
  {
   "cell_type": "code",
   "execution_count": 6,
   "id": "5f75c977-8fb8-4909-aeb2-aaff32cfcf38",
   "metadata": {},
   "outputs": [
    {
     "data": {
      "image/png": "[encoded data removed]",
      "text/plain": [
       "<Figure size 133.526x84.28 with 1 Axes>"
      ]
     },
     "execution_count": 6,
     "metadata": {},
     "output_type": "execute_result"
    }
   ],
   "source": [
    "quantumCircuit.draw('mpl')"
   ]
  },
  {
   "cell_type": "markdown",
   "id": "2f340fc5-c35b-4a05-8f95-dc94cc26b50b",
   "metadata": {},
   "source": [
    "Temos o circuito implementado, agora, podemos realizar a simulação:"
   ]
  },
  {
   "cell_type": "code",
   "execution_count": 7,
   "id": "076f8007-0f8a-4f3c-b958-a1ed7753e55a",
   "metadata": {},
   "outputs": [
    {
     "data": {
      "text/latex": [
       "$$\n",
       "\n",
       "\\begin{bmatrix}\n",
       "0 & 1  \\\\\n",
       " \\end{bmatrix}\n",
       "$$"
      ],
      "text/plain": [
       "<IPython.core.display.Latex object>"
      ]
     },
     "execution_count": 7,
     "metadata": {},
     "output_type": "execute_result"
    }
   ],
   "source": [
    "#configurações para iniciar o processamento do circuito quântico\n",
    "backend = Aer.get_backend('statevector_simulator')\n",
    "job = backend.run(quantumCircuit)\n",
    "result = job.result()\n",
    "outputstate = result.get_statevector(quantumCircuit, decimals=3)\n",
    "\n",
    "#comandos para realizar a representação formadata dos resultados\n",
    "state = Statevector.from_int(0, 2**1)\n",
    "state = state.evolve(quantumCircuit)\n",
    "state.draw('latex')"
   ]
  },
  {
   "cell_type": "markdown",
   "id": "f9473bc2-ba7b-4c08-a1d0-e8f4a100bf37",
   "metadata": {},
   "source": [
    "Lembrando que um qubit assume a seguinte configuração do seu estado:\n",
    "    \n",
    "$$|\\psi\\rangle = \\alpha|0\\rangle + \\beta|1\\rangle$$\n",
    "\n",
    "Então o que o resultado anterior significa? Basicamente o que a nossa variável *initial_state* fez: assumir para o **quibit** o estado $|1\\rangle$\n",
    "\n",
    "O vetor anterior nos diz que $\\alpha = 0$ e $\\beta = 1$, então, se substituírmos na representação do qubit $|\\psi\\rangle$, temos:\n",
    "\n",
    "$$|\\psi\\rangle = \\alpha|0\\rangle + \\beta|1\\rangle$$\n",
    "$$|\\psi\\rangle = 0|0\\rangle + 1|1\\rangle$$\n",
    "$$|\\psi\\rangle = 1|1\\rangle$$\n",
    "$$|\\psi\\rangle = |1\\rangle$$"
   ]
  },
  {
   "cell_type": "markdown",
   "id": "19129b38-7e2b-4e72-ba09-3ca072c247e8",
   "metadata": {},
   "source": [
    "Finalmente, podemos plotar um histograma com as probabilidades de cada estado do nosso qubit. Isso é facilmente realizado usando a função *plot_histogram* do qiskit."
   ]
  },
  {
   "cell_type": "code",
   "execution_count": 8,
   "id": "20f3ec14-ef57-496d-a1f3-bad229d05562",
   "metadata": {},
   "outputs": [
    {
     "data": {
      "image/png": "[encoded data removed]",
      "text/plain": [
       "<Figure size 504x360 with 1 Axes>"
      ]
     },
     "execution_count": 8,
     "metadata": {},
     "output_type": "execute_result"
    }
   ],
   "source": [
    "counts = result.get_counts()\n",
    "plot_histogram(counts)"
   ]
  },
  {
   "cell_type": "markdown",
   "id": "38c37729-9d72-48c9-9a93-a721f6f0944b",
   "metadata": {},
   "source": [
    "O que este resultado significa? Ele nos diz que a probabilidade de medirmos o estado $|1\\rangle$ é igual à 100%, conforme esperado e demonstrado anteriormente.\n",
    "\n",
    "**Dica**: você pode realizar uma modificação na variável *initial_state = [0,1]* para *initial_state = [1,0]* e verificar o resultado do histograma, ou então, assumir qualquer valor que respeite:\n",
    "\n",
    "$$|\\psi\\rangle = \\alpha|0\\rangle + \\beta|1\\rangle$$\n",
    "\n",
    "$$|\\alpha|^2 + |\\beta|^2 = 1$$"
   ]
  },
  {
   "cell_type": "markdown",
   "id": "035aa170-7a7d-4feb-806d-043ce646a250",
   "metadata": {},
   "source": [
    "### O circuito com o estado em superposição\n",
    "\n",
    "Agora, vamos evoluir o nosso antigo circuito simples para um circuito que represente o fenômeno de superposição dos qubits $|0\\rangle$ e $|1\\rangle$. A ideia é muito similar ao que foi feito anteriormente, porém, iremos mudar os valores da nossa variável *initial_state* para produzir a superposição."
   ]
  },
  {
   "cell_type": "code",
   "execution_count": 9,
   "id": "b4b600fb-77cf-4e3f-abac-255f2ae3ca9d",
   "metadata": {},
   "outputs": [
    {
     "data": {
      "image/png": "[encoded data removed]",
      "text/plain": [
       "<Figure size 193.726x84.28 with 1 Axes>"
      ]
     },
     "execution_count": 9,
     "metadata": {},
     "output_type": "execute_result"
    }
   ],
   "source": [
    "# Criando um circuito quântico com apenas 1 qubit\n",
    "quantumCircuit = QuantumCircuit(1) \n",
    "\n",
    "#Variável que irá inicializar o nosso qubit em um estado de superposição\n",
    "initial_state = [1/np.sqrt(2),1/np.sqrt(2)]\n",
    "\n",
    "#Aqui, nós estamos fazendo com que o qubit da posição 0 (0th qubit) assuma o estado de superposição\n",
    "quantumCircuit.initialize(initial_state, 0)\n",
    "\n",
    "#Desenho do circuito\n",
    "quantumCircuit.draw('mpl')"
   ]
  },
  {
   "cell_type": "markdown",
   "id": "c2887015-9781-46e5-832c-a7bbc3d0bedb",
   "metadata": {},
   "source": [
    "Então, temos um **qubit no estado de superposição**, criado alterando os parâmetros $\\alpha$ e $\\beta$ da variavel *inicial_state* com os seguintes valores:\n",
    "\n",
    "$$\\alpha = \\frac{1}{\\sqrt{2}}$$\n",
    "$$\\beta = \\frac{1}{\\sqrt{2}}$$\n",
    "\n",
    "Lembrando que $|\\alpha|^{2} + |\\beta|^{2} = 1$, ou seja:\n",
    "\n",
    "$$\\left| \\frac{1}{\\sqrt{2}} \\right|^2 + \\left| \\frac{1}{\\sqrt{2}} \\right|^2 = \\frac{1}{2} + \\frac{1}{2} = 1$$"
   ]
  },
  {
   "cell_type": "markdown",
   "id": "18c7e164-ff3f-4fea-8256-ec26bc6e1c8b",
   "metadata": {},
   "source": [
    "Temos o circuito implementado, agora, podemos realizar a simulação:"
   ]
  },
  {
   "cell_type": "code",
   "execution_count": 17,
   "id": "7f37b09f-8ab2-4c86-ad1f-8f35b2f14c8c",
   "metadata": {},
   "outputs": [
    {
     "data": {
      "text/latex": [
       "$$\n",
       "\n",
       "\\begin{bmatrix}\n",
       "\\tfrac{1}{\\sqrt{2}} & \\tfrac{1}{\\sqrt{2}}  \\\\\n",
       " \\end{bmatrix}\n",
       "$$"
      ],
      "text/plain": [
       "<IPython.core.display.Latex object>"
      ]
     },
     "execution_count": 17,
     "metadata": {},
     "output_type": "execute_result"
    }
   ],
   "source": [
    "#configurações para iniciar o processamento do circuito quântico\n",
    "backend = Aer.get_backend('statevector_simulator')\n",
    "job = backend.run(quantumCircuit)\n",
    "result = job.result()\n",
    "outputstate = result.get_statevector(quantumCircuit, decimals=3)\n",
    "\n",
    "#comandos para realizar a representação formadata dos resultados\n",
    "state = Statevector.from_int(0, 2**1)\n",
    "state = state.evolve(quantumCircuit)\n",
    "state.draw('latex')"
   ]
  },
  {
   "cell_type": "markdown",
   "id": "85a1d094-cec0-4577-b889-27f39864787f",
   "metadata": {},
   "source": [
    "Vamos agora plotar o nosso histograma com as probabilidades de cada um dos estados $|0\\rangle$ e $|1\\rangle$"
   ]
  },
  {
   "cell_type": "code",
   "execution_count": 11,
   "id": "9134d573-4724-4707-9ebd-f90348d603f3",
   "metadata": {},
   "outputs": [
    {
     "data": {
      "image/png": "[encoded data removed]",
      "text/plain": [
       "<Figure size 504x360 with 1 Axes>"
      ]
     },
     "execution_count": 11,
     "metadata": {},
     "output_type": "execute_result"
    }
   ],
   "source": [
    "counts = result.get_counts()\n",
    "plot_histogram(counts)"
   ]
  },
  {
   "cell_type": "markdown",
   "id": "da55d688-88ed-48ee-ad37-45ed8fc13430",
   "metadata": {},
   "source": [
    "Esse resultado corresponde ao **estado de suporposição!**, onde antes de se realizar qualquer medida, o observador tem 50% de probabilidade de medir  $|0\\rangle$ ou 50% de probabilidade de medir $|1\\rangle$"
   ]
  },
  {
   "cell_type": "markdown",
   "id": "b6845f69-b45d-4efb-b256-8d6faadbf44b",
   "metadata": {},
   "source": [
    "### Implementando o estado de surpeposição usando gates\n",
    "\n",
    "Uma maneira simples de criar um estado de superposição é por meio da utilização de um gate chamado **Hadamard**.\n",
    "\n",
    "A representação do gate **Hadamard** é mostrada abaixo:\n",
    "\n",
    "![](https://upload.wikimedia.org/wikipedia/commons/thumb/1/1a/Hadamard_gate.svg/1200px-Hadamard_gate.svg.png)\n",
    "\n",
    "E a representação matricial deste gate é dada por:\n",
    "\n",
    "$$H = \\frac{1}{\\sqrt{2}}\\begin{pmatrix}1 & 1 \\\\ 1 & -1 \\end{pmatrix}$$\n",
    "\n",
    "Então como é a construção do circuito de 1 qubit utilizando o gate de **Hadamard**?\n",
    "\n",
    "\n",
    "O código abaixo, traz um exemplo:"
   ]
  },
  {
   "cell_type": "code",
   "execution_count": 16,
   "id": "1b2965cf-e941-475d-9114-4da0fcd501c1",
   "metadata": {},
   "outputs": [
    {
     "data": {
      "image/png": "[encoded data removed]",
      "text/plain": [
       "<Figure size 133.526x84.28 with 1 Axes>"
      ]
     },
     "execution_count": 16,
     "metadata": {},
     "output_type": "execute_result"
    }
   ],
   "source": [
    "# Criando um circuito quântico com apenas 1 qubit\n",
    "quantumCircuit = QuantumCircuit(1) \n",
    "\n",
    "#Aqui estamos adicionando o gate de Hadamard no nosso qubit q do circuito\n",
    "quantumCircuit.h(0)\n",
    "\n",
    "#Desenho do circuito\n",
    "quantumCircuit.draw('mpl')"
   ]
  },
  {
   "cell_type": "markdown",
   "id": "b2c02d88-58ad-4c16-92ac-b8fc4bb02f8b",
   "metadata": {},
   "source": [
    "O circuito com o gate de Hadamard foi implementado no trecho de código acima, agora, podemos então executar o circuito:"
   ]
  },
  {
   "cell_type": "code",
   "execution_count": 24,
   "id": "3e015902-ccbc-4d50-ab3e-2f955b124bd2",
   "metadata": {},
   "outputs": [
    {
     "data": {
      "text/latex": [
       "$$\n",
       "\n",
       "\\begin{bmatrix}\n",
       "\\tfrac{1}{\\sqrt{2}} & -\\tfrac{1}{\\sqrt{2}}  \\\\\n",
       " \\end{bmatrix}\n",
       "$$"
      ],
      "text/plain": [
       "<IPython.core.display.Latex object>"
      ]
     },
     "execution_count": 24,
     "metadata": {},
     "output_type": "execute_result"
    }
   ],
   "source": [
    "#configurações para iniciar o processamento do circuito quântico\n",
    "backend = Aer.get_backend('statevector_simulator')\n",
    "job = backend.run(quantumCircuit)\n",
    "result = job.result()\n",
    "outputstate = result.get_statevector(quantumCircuit, decimals=3)\n",
    "\n",
    "#comandos para realizar a representação formadata dos resultados\n",
    "state = Statevector.from_int(0, 2**1)\n",
    "state = state.evolve(quantumCircuit)\n",
    "state.draw('latex')"
   ]
  },
  {
   "cell_type": "markdown",
   "id": "64516b01-510d-4019-82a3-8ca9a2c7fe48",
   "metadata": {},
   "source": [
    "Percebam que ao executar o circuito acima, chegamos ao mesmo resultado mostrado anteriormente. Ou seja, de fato, o gate de Hadamard coloca o nosso qubit em um estado de superposição do tipo:\n",
    "\n",
    "$$|\\psi\\rangle = \\frac{1}{\\sqrt{2}} |0\\rangle + \\frac{1}{\\sqrt{2}} + |1\\rangle = \\frac{1}{\\sqrt{2}}(|0\\rangle + |1\\rangle)$$\n",
    "\n",
    "Vamos então explorar este resultado analiticamente:\n",
    "\n",
    "Lembrete: sempre que um circuito no qiskit é criado, por padrão os qubits são inicializados no estado $|0\\rangle$, desta forma, temos o seguinte cálculo para resolver:\n",
    "\n",
    "$$|\\psi\\rangle = H |0\\rangle$$\n",
    "\n",
    "$$|\\psi\\rangle = \\frac{1}{\\sqrt{2}} \\begin{pmatrix}1&1\\\\1&-1 \\end{pmatrix} \\begin{pmatrix}1\\\\0 \\end{pmatrix}$$\n",
    "\n",
    "$$|\\psi\\rangle = \\frac{1}{\\sqrt{2}} \\begin{pmatrix} 1\\\\1 \\end{pmatrix} = \\frac{1}{\\sqrt{2}} \\left [\\begin{pmatrix} 1\\\\0 \\end{pmatrix} + \\begin{pmatrix} 0\\\\1 \\end{pmatrix} \\right ]  = \\frac{1}{\\sqrt{2}}(|0\\rangle + |1\\rangle) = |+\\rangle$$\n",
    "\n",
    "De modo que podemos verificar que de fato, ao se realizar o cálculo matricial, chegamos ao valor esperado da superposição.\n",
    "\n",
    "E se inicializarmos o nosso qubit no estado $|1\\rangle$, qual será o resultado obtido?\n",
    "\n",
    "Vamos implementar o circuito agora utilizando o gate **X** (gate de inversão de estado) para fazer com que o nosso qubit fique com o estado $|1\\rangle$ e então na sequência, vamos aplicar o gate de **Hadamard**:\n",
    "\n",
    "O gate **X** é um gate que tem a propriedade de inverter um estado, ou seja, se o estado era $|0\\rangle$ então ele irá se tornar $|1\\rangle$ e se o estado era $|1\\rangle$ então ele vai se tornar $|0\\rangle$.\n",
    "\n",
    "O gate de **Hadamard** irá produzir a nossa superposição dos estados.\n",
    "\n",
    "O código abaixo traz um exemplo prático deste exemplo quando temos iniciando o qubit no tesdo $|1\\rangle$ usando o gate **X**:"
   ]
  },
  {
   "cell_type": "code",
   "execution_count": 23,
   "id": "b4d9a822-1bad-40b3-a62b-42e861b7f121",
   "metadata": {},
   "outputs": [
    {
     "data": {
      "image/png": "[encoded data removed]",
      "text/plain": [
       "<Figure size 193.726x84.28 with 1 Axes>"
      ]
     },
     "execution_count": 23,
     "metadata": {},
     "output_type": "execute_result"
    }
   ],
   "source": [
    "# Criando um circuito quântico com apenas 1 qubit\n",
    "quantumCircuit = QuantumCircuit(1) \n",
    "\n",
    "#Aqui estamos adicionando o gate X para inverter o estado do qubit (de |0> para |1>)\n",
    "quantumCircuit.x(0)\n",
    "\n",
    "#Aqui estamos adicionando o gate de Hadamard no nosso qubit q do circuito\n",
    "quantumCircuit.h(0)\n",
    "\n",
    "#Desenho do circuito\n",
    "quantumCircuit.draw('mpl')"
   ]
  },
  {
   "cell_type": "markdown",
   "id": "00357cc5-d614-49d7-862e-247314a54b14",
   "metadata": {},
   "source": [
    "Agora vamos realizar a execução do circuito e analisar o resultado obtido:"
   ]
  },
  {
   "cell_type": "code",
   "execution_count": 25,
   "id": "a3fee8f4-f746-41f4-8bfa-23aa85c6c544",
   "metadata": {},
   "outputs": [
    {
     "data": {
      "text/latex": [
       "$$\n",
       "\n",
       "\\begin{bmatrix}\n",
       "\\tfrac{1}{\\sqrt{2}} & -\\tfrac{1}{\\sqrt{2}}  \\\\\n",
       " \\end{bmatrix}\n",
       "$$"
      ],
      "text/plain": [
       "<IPython.core.display.Latex object>"
      ]
     },
     "execution_count": 25,
     "metadata": {},
     "output_type": "execute_result"
    }
   ],
   "source": [
    "#configurações para iniciar o processamento do circuito quântico\n",
    "backend = Aer.get_backend('statevector_simulator')\n",
    "job = backend.run(quantumCircuit)\n",
    "result = job.result()\n",
    "outputstate = result.get_statevector(quantumCircuit, decimals=3)\n",
    "\n",
    "#comandos para realizar a representação formadata dos resultados\n",
    "state = Statevector.from_int(0, 2**1)\n",
    "state = state.evolve(quantumCircuit)\n",
    "state.draw('latex')"
   ]
  },
  {
   "cell_type": "markdown",
   "id": "50f29426-a758-41ea-a08d-92de3ec61fa8",
   "metadata": {},
   "source": [
    "Percebam que agora o parâmetro $\\beta$ é negativo, mas que ainda sim, estamos respeitando a condição de que $|\\alpha|^{2} + |\\beta|^{2}=1$\n",
    "\n",
    "$$\\left| \\frac{1}{\\sqrt{2}} \\right|^2 + \\left| -\\frac{1}{\\sqrt{2}} \\right|^2 = \\frac{1}{2} + \\frac{1}{2} = 1$$\n",
    "\n",
    "Agora, resolveremos analiticamente o exemplo onde iniciamos o estado do qubit em $|1\\rangle$:\n",
    "\n",
    "* Aplicar o gate X\n",
    "\n",
    "$$|\\psi_{0}\\rangle = X|0\\rangle$$\n",
    "\n",
    "$$|\\psi_{0}\\rangle = \\begin{pmatrix} 0&1 \\\\ 1&0 \\end{pmatrix} . \\begin{pmatrix} 1 \\\\ 0 \\end{pmatrix} = \\begin{pmatrix} 0 \\\\ 1\\end{pmatrix}$$\n",
    "\n",
    "* Aplicar o gate Hadamard\n",
    "\n",
    "$$|\\psi_{1}\\rangle = H|\\psi_{0}\\rangle = \\frac{1}{\\sqrt{2}}\\begin{pmatrix} 1&1\\\\1&-1\\end{pmatrix}\n",
    "\\begin{pmatrix} 0 \\\\ 1\\end{pmatrix} = \\frac{1}{\\sqrt{2}}\\begin{pmatrix} 1 \\\\ -1\\end{pmatrix} =\n",
    "\\frac{1}{\\sqrt{2}} \\left [ \\begin{pmatrix} 1\\\\0 \\end{pmatrix} -  \\begin{pmatrix} 0\\\\1 \\end{pmatrix}\\right ]$$\n",
    "\n",
    "Onde este resultado pode ser representado como:\n",
    "\n",
    "$$|\\psi_{1}\\rangle = \\frac{1}{\\sqrt{2}} (|0\\rangle - |1\\rangle) = |-\\rangle$$\n",
    "\n",
    "Com isso, terminamos esse primeiro módulo sobre superposição."
   ]
  },
  {
   "cell_type": "markdown",
   "id": "210475f3-bc93-4ff2-9fa0-5df83894c95c",
   "metadata": {},
   "source": [
    "### Referências\n",
    "\n",
    "https://qiskit.org/textbook/ch-states/representing-qubit-states.html\n",
    "\n",
    "(DA SILVA, Wagner Jorcuvich Nunes. Uma introdução à Computação Quântica. 2018. Tese de Doutorado. Universidade de São Paulo.)\n",
    "\n",
    "(JUNIOR, Osvaldo Pessoa. Conceitos de Física Quântica 1. Editora Livraria da Fisica, 2003)"
   ]
  }
 ],
 "metadata": {
  "kernelspec": {
   "display_name": "Python 3",
   "language": "python",
   "name": "python3"
  },
  "language_info": {
   "codemirror_mode": {
    "name": "ipython",
    "version": 3
   },
   "file_extension": ".py",
   "mimetype": "text/x-python",
   "name": "python",
   "nbconvert_exporter": "python",
   "pygments_lexer": "ipython3",
   "version": "3.8.8"
  }
 },
 "nbformat": 4,
 "nbformat_minor": 5
}
