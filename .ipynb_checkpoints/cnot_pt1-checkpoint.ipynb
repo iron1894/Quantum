{
 "cells": [
  {
   "cell_type": "markdown",
   "id": "9018623b-af8f-4c5e-b4a6-076dda6567eb",
   "metadata": {},
   "source": [
    "### Introdução à Computação Quântica - Controlled Not Gate (Parte I)\n",
    "\n",
    "![](https://miro.medium.com/max/810/0*6qh01lw6kdaC73KF.png)\n",
    "\n",
    "Este material faz parde do conteúdo de introdução à computação quântica e tem como objetivo familializar o leitor com os principais conceitos que envolvem este domínio do conhecimento. Em específico, este material vai destacar o uso de uma das portas (ou gates) fundamentais da computação quântica, conhecido como **Controlled Not Gate** ou **CNOT**. Para quem está iniciando sua jornada para conhecer mais sobre a construção de circuitos quânticos, se torna essencial conhecer estes gates para poder futuramente construir algoritmos mais complexos."
   ]
  },
  {
   "cell_type": "markdown",
   "id": "3f1e77fb-7116-4bf3-8245-01ca25cfe2c4",
   "metadata": {},
   "source": [
    "#### Controlled Not Gate ou CNOT\n",
    "\n",
    "No contexto da ciência da computação e da mecânica quântica, um **Controlled Not Gate** ou **CNOT** é uma das portas lógicas fundamentais para a construção de circuitos quânticos. Comumente, podemos encontrá-la em problemas que envolvem emaranhamento quântico (entangle e disentangle), como por exemplo, o **estado de Bell**."
   ]
  },
  {
   "cell_type": "markdown",
   "id": "aed05bf5-4357-486b-8fc9-95b3b413b7f2",
   "metadata": {},
   "source": [
    "#### Notação\n",
    "\n",
    "Um **Controlled Not Gate** ou **CNOT**, é representado da seguinte forma em um circuito quântico:\n",
    "\n",
    "![](https://i.stack.imgur.com/kHu5I.png)\n",
    "\n",
    "Perceba que esta porta atua em dois qubits, onde o primeiro qubit (representado por um ponto) é o qubit \"controlador\" (controller) enquanto o segundo qubit (representado por uma circunferência com um sinal de +) representa o qubit \"alvo\"ou \"controlado\" (target)"
   ]
  },
  {
   "cell_type": "markdown",
   "id": "f5c68f0b-748c-4c00-87e7-71a8989e626d",
   "metadata": {},
   "source": [
    "#### Definição\n",
    "\n",
    "Vamos agora definir a operação realizada pelo Controlled-X Gate. Este gate atua da seguinte forma nos qubits:\n",
    "\n",
    "Sejam dados dois qubits quaisquer adjacentes $q_{0}$ e $q_{1}$, então o Controlled-X gate opera:\n",
    "\n",
    "$$|q_{0}, q_{1}\\rangle \\mapsto |q_{0}, q_{0}\\oplus q_{1}\\rangle$$\n",
    "\n",
    "Onde o operador $\\oplus$ corresponde à operação XOR (ou exclusivo) dos circuitos clássicos. Podemos percecber que o primeiro qubit (aqui chamado de $q_{0}$ não altera o seu estado **(controller)** enquanto o segundo qubit (aqui chamado de $q_{1}$) tem o seu estado alterado devido a operação XOR clássica **(target)**"
   ]
  },
  {
   "cell_type": "markdown",
   "id": "b7b6874e-6bf6-4e19-985f-f3583464b1c5",
   "metadata": {},
   "source": [
    "#### Representação matricial do Controlled Not Gate (CNOT)\n",
    "\n",
    "Vamos agora obter a representação matricial do CNOT. Para isso, iremos usar a seguinte expressão para controlador de 2 qubits adjacentes:\n",
    "\n",
    "$$CU(1,0)=I \\otimes |0\\rangle\\langle0| + U \\otimes|1\\rangle\\langle1|$$\n",
    "$$CU(0,1)=I \\otimes |1\\rangle\\langle1| + U \\otimes|0\\rangle\\langle0|$$\n",
    "\n",
    "Onde $U=\\begin{bmatrix}u_{00}&u_{01}\\\\u_{01}&u_{11}\\end{bmatrix}$ é um **gate genérico** que vai operar no qubit target (controlado ou alvo). E $I$ é a matriz identidade.\n",
    "\n",
    "Como o nosso gate é um **CNOT**, então iremos substituir a matriz genérica $U$ por $X$. Onde o gate $X$ tem sua representação matricial dada por:\n",
    "\n",
    "$X=\\begin{bmatrix}0&1\\\\1&0\\end{bmatrix}$\n",
    "\n",
    "Vamos então reescrever as nossas equações genéricas levando em consideração o gate $X$:\n",
    "\n",
    "$$CU(1,0)=I \\otimes |0\\rangle\\langle0| + X \\otimes|1\\rangle\\langle1|$$\n",
    "$$CU(0,1)=I \\otimes |1\\rangle\\langle1| + X \\otimes|0\\rangle\\langle0|$$\n",
    "\n",
    "Agora nós temos as duas expressões necessárias para obter a expressão matricial do **CNOT**. Neste material, iremos representar o gate **CNOT** como sendo **$C_{x}(q_{0}, q_{1})$**"
   ]
  },
  {
   "cell_type": "markdown",
   "id": "ef58ddec-a0a2-414a-8383-eb738a050c8c",
   "metadata": {},
   "source": [
    "#### Forma matricial $C_{x}(0,1)$\n",
    "\n",
    "Vamos obter a versão matricial do gate $C_{x}(0,1)$:\n",
    "\n",
    "$$C_{x}(0,1)=I \\otimes |0\\rangle\\langle0| + X \\otimes|1\\rangle\\langle1| = \n",
    "\\begin{bmatrix}1&0\\\\0&1\\end{bmatrix} \\otimes\n",
    "\\begin{bmatrix}1\\\\0\\end{bmatrix}\n",
    "\\begin{bmatrix}1&0\\end{bmatrix}+ \n",
    "\\begin{bmatrix}0&1\\\\1&0\\end{bmatrix}\n",
    "\\otimes\n",
    "\\begin{bmatrix}0\\\\1\\end{bmatrix}\n",
    "\\begin{bmatrix}0&1\\end{bmatrix}$$\n",
    "\n",
    "$$C_{x}(0,1)=\\begin{bmatrix}1&0\\\\0&1\\end{bmatrix}\\otimes\n",
    "\\begin{bmatrix}1&0\\\\0&0\\end{bmatrix} + \n",
    "\\begin{bmatrix}0&1\\\\1&0\\end{bmatrix}\\otimes\n",
    "\\begin{bmatrix}0&0\\\\0&1\\end{bmatrix}$$\n",
    "\n",
    "$$C_{x}(0,1)=\\begin{bmatrix}1&0&0&0\\\\0&0&0&0\\\\0&0&1&0\\\\0&0&0&0\\end{bmatrix} + \n",
    "\\begin{bmatrix}0&0&0&0\\\\0&0&0&1\\\\0&0&0&0\\\\0&1&0&0\\end{bmatrix}$$\n",
    "\n",
    "O resultado final é a matrix:\n",
    "\n",
    "$$C_{x}(0,1)=\\begin{bmatrix}1&0&0&0\\\\0&0&0&1\\\\0&0&1&0\\\\0&1&0&0\\end{bmatrix}$$"
   ]
  },
  {
   "cell_type": "markdown",
   "id": "2705108c-0736-45f6-9c4a-22d0bd0868b0",
   "metadata": {},
   "source": [
    "#### Forma matricial $C_{x}(1,0)$\n",
    "\n",
    "Vamos obter a versão matricial do gate $C_{x}(1,0)$:\n",
    "\n",
    "$$C_{x}(1,0)=I \\otimes |1\\rangle\\langle1| + X \\otimes|0\\rangle\\langle0|  = \n",
    "\\begin{bmatrix}1&0\\\\0&1\\end{bmatrix} \\otimes\n",
    "\\begin{bmatrix}0\\\\1\\end{bmatrix}\n",
    "\\begin{bmatrix}0&1\\end{bmatrix}+ \n",
    "\\begin{bmatrix}0&1\\\\1&0\\end{bmatrix}\n",
    "\\otimes\n",
    "\\begin{bmatrix}1\\\\0\\end{bmatrix}\n",
    "\\begin{bmatrix}1&0\\end{bmatrix}$$\n",
    "\n",
    "$$C_{x}(1,0)=\\begin{bmatrix}1&0\\\\0&1\\end{bmatrix}\\otimes\n",
    "\\begin{bmatrix}0&0\\\\0&1\\end{bmatrix} + \n",
    "\\begin{bmatrix}0&1\\\\1&0\\end{bmatrix}\\otimes\n",
    "\\begin{bmatrix}1&0\\\\0&0\\end{bmatrix}$$\n",
    "\n",
    "$$C_{x}(1,0)=\\begin{bmatrix}0&0&0&0\\\\0&1&0&0\\\\0&0&0&0\\\\0&0&0&1\\end{bmatrix} + \n",
    "\\begin{bmatrix}0&0&1&0\\\\0&0&0&0\\\\1&0&0&0\\\\0&0&0&0\\end{bmatrix}$$\n",
    "\n",
    "O resultado final é a matrix:\n",
    "\n",
    "$$C_{x}(1,0)=\\begin{bmatrix}0&0&1&0\\\\0&1&0&0\\\\1&0&0&0\\\\0&0&0&1\\end{bmatrix}$$\n"
   ]
  },
  {
   "cell_type": "markdown",
   "id": "84c70ce5-1a98-412b-bb98-9ec3702ab04c",
   "metadata": {},
   "source": [
    "#### Implementando o circuito\n",
    "Vamos agora construir os exemplos do circuito quântico usando o **CNOT**. Primeiramente, vamos precisar criar o nosso circuito com 2 qubits (aqui chamados de $q_{0}$ e $q_{1}$) e então aplicaremos o gate **CNOT**."
   ]
  },
  {
   "cell_type": "code",
   "execution_count": 1,
   "id": "2dee19ee-9e16-49c4-be62-18d15200eac3",
   "metadata": {},
   "outputs": [],
   "source": [
    "import numpy as np\n",
    "from qiskit import *\n",
    "from qiskit.quantum_info import Statevector"
   ]
  },
  {
   "cell_type": "markdown",
   "id": "78cf2db2-c9dc-4e8d-9683-ea5facbbc2e8",
   "metadata": {},
   "source": [
    "#### Exemplo 1\n",
    "O primeiro exemplo tem os seguintes parâmetros de entrada:\n",
    "\n",
    "$$|q_{0}\\rangle=|0\\rangle$$\n",
    "\n",
    "$$|q_{1}\\rangle=|0\\rangle$$\n",
    "\n",
    "Significa que o qubit $q_{0}$ foi inicializado no estado $|0\\rangle$ e o qubit $q_{1}$ foi inicializado no estado $|0\\rangle$"
   ]
  },
  {
   "cell_type": "code",
   "execution_count": 3,
   "id": "ed64364b-ef23-458f-b6b5-c05f82ce0040",
   "metadata": {},
   "outputs": [],
   "source": [
    "#total de qubits que pertencem ao circuito quântico\n",
    "n = 2\n",
    "#instância do circuito quântico com n qubits\n",
    "circuit = QuantumCircuit(n)"
   ]
  },
  {
   "cell_type": "code",
   "execution_count": 4,
   "id": "713fc166-a99a-4033-9900-3f9fc5cd1b3f",
   "metadata": {},
   "outputs": [
    {
     "data": {
      "image/png": "[encoded data removed]",
      "text/plain": [
       "<Figure size 146.652x144.48 with 1 Axes>"
      ]
     },
     "execution_count": 4,
     "metadata": {},
     "output_type": "execute_result"
    }
   ],
   "source": [
    "#para adicionar o CNOT, o primeiro parâmetro da função 'cx' é a posição do qubit \"controlador\" (controller)\n",
    "#enquanto o segundo parâmetro é a posição do qubit \"controlado\" ou \"alvo\" (target)\n",
    "circuit.cx(0,1)\n",
    "#visualização do circuito quântico\n",
    "circuit.draw('mpl')"
   ]
  },
  {
   "cell_type": "markdown",
   "id": "84453170-ae46-42ef-aeb6-d83d70a61636",
   "metadata": {},
   "source": [
    "Vamos agora realizar o processamento deste circuito quântico onde $q_{0} = |0\\rangle$ e $q_{1} = |0\\rangle$: "
   ]
  },
  {
   "cell_type": "code",
   "execution_count": 5,
   "id": "800673fe-1119-4a8e-b4e1-f7e3b76bf4f2",
   "metadata": {},
   "outputs": [
    {
     "data": {
      "text/latex": [
       "$$\n",
       "\n",
       "\\begin{bmatrix}\n",
       "1 & 0 & 0 & 0  \\\\\n",
       " \\end{bmatrix}\n",
       "$$"
      ],
      "text/plain": [
       "<IPython.core.display.Latex object>"
      ]
     },
     "execution_count": 5,
     "metadata": {},
     "output_type": "execute_result"
    }
   ],
   "source": [
    "#instância do simulador - neste caso estamos usando o simulador analítico\n",
    "backend = Aer.get_backend('statevector_simulator')\n",
    "#execução do circuito quântico\n",
    "job = backend.run(circuit)\n",
    "#resultado do processamento do circuito\n",
    "result = job.result()\n",
    "#obter o resultado dos cálculos do statevector_simulator\n",
    "outputstate = result.get_statevector(circuit, decimals = 3)\n",
    "\n",
    "#a última etapa corresponde à uma formatação do resultado para exebir ao usuário\n",
    "state = Statevector.from_int(0, 2**2)\n",
    "state = state.evolve(circuit)\n",
    "state.draw('latex')"
   ]
  },
  {
   "cell_type": "markdown",
   "id": "655f056b-e94f-4547-93f4-863045af6728",
   "metadata": {},
   "source": [
    "Vamos agora realizar os cálculos referentes à este circuito quântico:\n",
    "\n",
    "Conforme mostrado anteriormente, o nosso qubit \"controlador\" é o $q_{0}$ enquanto o qubit \"controlado\" é o qubit $q_{1}$, então, iremos usar o nosso **CNOT** na forma matricial $C_{x}(0,1)$\n",
    "\n",
    "Inicialmente, calcula-se o estado $|\\psi_{0}\\rangle$ do circuito:\n",
    "\n",
    "$$|\\psi_{0}\\rangle = |0\\rangle \\otimes |0\\rangle = |00\\rangle = \\begin{bmatrix}1\\\\0\\\\0\\\\0\\end{bmatrix}$$\n",
    "\n",
    "Perceba que operamos com **2 qubits**, o que é necessário para aplicarmos a nossa **CNOT**.\n",
    "\n",
    "Agora, iremos calcular o novo estado aplicando o gate $C_{x}(0, 1)$ que iremos chamar de $|\\psi_{1}\\rangle$\n",
    "\n",
    "$$|\\psi_{1}\\rangle = C_{x}(0,1)|\\psi_{0}\\rangle = \n",
    "\\begin{bmatrix}1&0&0&0\\\\0&0&0&1\\\\0&0&1&0\\\\0&1&0&0\\end{bmatrix}\n",
    "\\begin{bmatrix}1\\\\0\\\\0\\\\0\\end{bmatrix} = \n",
    "\\begin{bmatrix}1\\\\0\\\\0\\\\0\\end{bmatrix} = |00\\rangle = |\\psi_{0}\\rangle$$\n",
    "\n",
    "Ou seja, o **estado não foi alterado!**"
   ]
  },
  {
   "cell_type": "markdown",
   "id": "3b92f6dc-aee3-4aa6-9376-5f19869aa98c",
   "metadata": {},
   "source": [
    "#### Exemplo 2\n",
    "O segundo exemplo tem os seguintes parâmetros de entrada:\n",
    "\n",
    "$$|q_{0}\\rangle=|0\\rangle$$\n",
    "\n",
    "$$|q_{1}\\rangle=|1\\rangle$$\n",
    "\n",
    "Significa que o qubit $q_{0}$ foi inicializado no estado $|0\\rangle$ e o qubit $q_{1}$ foi inicializado no estado $|1\\rangle$.\n",
    "\n",
    "Para inicializar o qubit $q_{1}$ no estado $|1\\rangle$ devemos aplicar o gate $X$ que realiza a \"inversão\" do estado."
   ]
  },
  {
   "cell_type": "code",
   "execution_count": 6,
   "id": "8ee04f30-38ba-4832-be0c-17203cf6dacb",
   "metadata": {},
   "outputs": [],
   "source": [
    "#total de qubits que pertencem ao circuito quântico\n",
    "n = 2\n",
    "#instância do circuito quântico com n qubits\n",
    "circuit = QuantumCircuit(n)"
   ]
  },
  {
   "cell_type": "code",
   "execution_count": 7,
   "id": "115d18f4-d8db-4cde-8ccb-f8faa4a7266e",
   "metadata": {},
   "outputs": [
    {
     "data": {
      "image/png": "[encoded data removed]",
      "text/plain": [
       "<Figure size 206.852x144.48 with 1 Axes>"
      ]
     },
     "execution_count": 7,
     "metadata": {},
     "output_type": "execute_result"
    }
   ],
   "source": [
    "#para adicionar o CNOT, o primeiro parâmetro da função 'cx' é a posição do qubit \"controlador\" (controller)\n",
    "#adicionar o gate X para realizar a inversão do estado do qubit 1\n",
    "circuit.x(1)\n",
    "#enquanto o segundo parâmetro é a posição do qubit \"controlado\" ou \"alvo\" (target)\n",
    "circuit.cx(0,1)\n",
    "#visualização do circuito quântico\n",
    "circuit.draw('mpl')"
   ]
  },
  {
   "cell_type": "code",
   "execution_count": 8,
   "id": "1c4ef90c-b247-491d-bc5f-0a2dd148a074",
   "metadata": {},
   "outputs": [
    {
     "data": {
      "text/latex": [
       "$$\n",
       "\n",
       "\\begin{bmatrix}\n",
       "0 & 0 & 1 & 0  \\\\\n",
       " \\end{bmatrix}\n",
       "$$"
      ],
      "text/plain": [
       "<IPython.core.display.Latex object>"
      ]
     },
     "execution_count": 8,
     "metadata": {},
     "output_type": "execute_result"
    }
   ],
   "source": [
    "#instância do simulador - neste caso estamos usando o simulador analítico\n",
    "backend = Aer.get_backend('statevector_simulator')\n",
    "#execução do circuito quântico\n",
    "job = backend.run(circuit)\n",
    "#resultado do processamento do circuito\n",
    "result = job.result()\n",
    "#obter o resultado dos cálculos do statevector_simulator\n",
    "outputstate = result.get_statevector(circuit, decimals = 3)\n",
    "\n",
    "#a última etapa corresponde à uma formatação do resultado para exebir ao usuário\n",
    "state = Statevector.from_int(0, 2**2)\n",
    "state = state.evolve(circuit)\n",
    "state.draw('latex')"
   ]
  },
  {
   "cell_type": "markdown",
   "id": "708df42a-336d-4d1e-89a1-8d72d7f5ca24",
   "metadata": {
    "tags": []
   },
   "source": [
    "Vamos agora realizar os cálculos referentes à este circuito quântico:\n",
    "\n",
    "Inicialmente, vamos calcular um estado $|\\psi_{0}\\rangle$ dado por:\n",
    "\n",
    "$$|\\psi_{0}\\rangle = X|0\\rangle \\otimes |0\\rangle$$\n",
    "\n",
    "$$|\\psi_{0}\\rangle = \\begin{bmatrix}0&1\\\\1&0\\end{bmatrix}\n",
    "\\begin{bmatrix}1\\\\0\\end{bmatrix} \\otimes \n",
    "\\begin{bmatrix}1\\\\0\\end{bmatrix} = \n",
    "\\begin{bmatrix}0\\\\1\\end{bmatrix} \\otimes\n",
    "\\begin{bmatrix}1\\\\0\\end{bmatrix} = \n",
    "\\begin{bmatrix}0&0&1&0\\end{bmatrix}^{T}$$\n",
    "\n",
    "Agora podemos calcular o novo estado $|\\psi_{1}\\rangle$ que será dado por:\n",
    "\n",
    "$$|\\psi_{1}\\rangle = C_{x}(0,1)|\\psi_{0}\\rangle$$\n",
    "\n",
    "$$|\\psi_{1}\\rangle = \n",
    "\\begin{bmatrix}1&0&0&0\\\\0&0&0&1\\\\0&0&1&0\\\\0&1&0&0\\end{bmatrix}\n",
    "\\begin{bmatrix}0\\\\0\\\\1\\\\0\\end{bmatrix} = \n",
    "\\begin{bmatrix}0\\\\0\\\\1\\\\0\\end{bmatrix} = |\\psi_{0}\\rangle$$\n",
    "\n",
    "Ou seja, novamente o **estado não foi alterado!**"
   ]
  },
  {
   "cell_type": "markdown",
   "id": "8ad47cc7-21a2-4d7f-805a-09c79ccefe96",
   "metadata": {},
   "source": [
    "#### Exemplo 3\n",
    "O segundo exemplo tem os seguintes parâmetros de entrada:\n",
    "\n",
    "$$|q_{0}\\rangle=|1\\rangle$$\n",
    "\n",
    "$$|q_{1}\\rangle=|0\\rangle$$\n",
    "\n",
    "Significa que o qubit $q_{0}$ foi inicializado no estado $|1\\rangle$ e o qubit $q_{1}$ foi inicializado no estado $|0\\rangle$.\n",
    "\n",
    "Para inicializar o qubit $q_{0}$ no estado $|1\\rangle$ devemos aplicar o gate $X$ que realiza a \"inversão\" do estado."
   ]
  }
 ],
 "metadata": {
  "kernelspec": {
   "display_name": "Python 3",
   "language": "python",
   "name": "python3"
  },
  "language_info": {
   "codemirror_mode": {
    "name": "ipython",
    "version": 3
   },
   "file_extension": ".py",
   "mimetype": "text/x-python",
   "name": "python",
   "nbconvert_exporter": "python",
   "pygments_lexer": "ipython3",
   "version": "3.8.8"
  }
 },
 "nbformat": 4,
 "nbformat_minor": 5
}
