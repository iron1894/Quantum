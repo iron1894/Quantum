{
 "cells": [
  {
   "cell_type": "markdown",
   "id": "7deca5b9-77ad-4961-95cd-6a468e5f7174",
   "metadata": {},
   "source": [
    "## Introdução à computação quântica - Emaranhamento Quântico (Parte I)\n",
    "\n",
    "![](https://hypescience.com/wp-content/uploads/2016/03/entrelacamento-quantico-a-olho-nu.jpg)\n",
    "\n",
    "Este material tem como objetivo apresesentar uma breve introdução ao estudo da computação quântica. Em particular, iremos usar uma biblioteca específica open source chamada **Qiskit**. A biblioteca Qiskit acelera o desenvolvimento de aplicações quânticas, fornecendo um conjunto completo de ferramentas necessárias para interagir com sistemas quânticos e simuladores (https://qiskit.org/)."
   ]
  },
  {
   "cell_type": "markdown",
   "id": "5c0d4ee6-2c06-4c8f-85f9-9d09e56e1c38",
   "metadata": {},
   "source": [
    "### Criando o primeiro circuito quântico\n",
    "\n",
    "Vamos criar o nosso primeiro circuito quântico usando a biblioteca do Qiskit. Basicamente, iremos usar o pacote fundamental do Qiskit, chamado de **Terra** (futuramente este pacote será depreciado, consulte no site novas informações sobre os novos pacotes), que fornece os componentes básicos para a programação quântico. De forma simplificada, o processo de desenvolvimento de um circuito quântico apresenta duas \"macro etapas\": a **construção e a execução**:\n",
    "\n",
    "* Construção: desenvolvimento do circuito quântico ou algoritmo quântico\n",
    "* Execução: processamento em uma simulação ou hardware quântico\n",
    "\n",
    "Após a execução, as saídas serão geradas e tratadas de forma desejada."
   ]
  },
  {
   "cell_type": "markdown",
   "id": "3dfd0034-d6a6-479a-973d-81ae65167daa",
   "metadata": {},
   "source": [
    "#### Importanção das bibliotecas\n",
    "Para iniciar o nosso circuito quântico, primeiramente vamos importar a biblioteca do Qiskit com todas as respectivas funções dela."
   ]
  },
  {
   "cell_type": "code",
   "execution_count": 2,
   "id": "3387429f-d894-4646-81b4-6a77b2420a41",
   "metadata": {
    "tags": []
   },
   "outputs": [],
   "source": [
    "import numpy as np\n",
    "from qiskit import *\n",
    "from qiskit.quantum_info import Statevector"
   ]
  },
  {
   "cell_type": "markdown",
   "id": "d4103e5b-3429-4dc1-a581-6faad3b63b07",
   "metadata": {},
   "source": [
    "#### Inicializando o circuito\n",
    "\n",
    "Parte fundamentel da construção do circuito é criar uma instância deste circuito onde iremos implementar as portas lógicas quânticas ou gates. Um circuito quântico é uma rotina computacional que consiste em **operações quânticas** coerentes em dados quânticos, como **qubits**. É uma sequência ordenadas de portas quânticas, medições e reinicializações, que podem ser condicionadas à computação clássica em tempo real (https://qiskit.org/documentation/apidoc/circuit.html)."
   ]
  },
  {
   "cell_type": "code",
   "execution_count": 3,
   "id": "d36f48cb-8a00-44b3-b10e-ca8a6e95f739",
   "metadata": {},
   "outputs": [],
   "source": [
    "# Criação de um Circuito Quântico atuando em um registrador de n qubits\n",
    "n = 3\n",
    "circuit = QuantumCircuit(n)"
   ]
  },
  {
   "cell_type": "markdown",
   "id": "269c9dea-f5ff-4de5-8b88-08e3244035c2",
   "metadata": {},
   "source": [
    "#### Problema proposto\n",
    "Neste material, vamos estudar um **estado quântico** específico, chamado de **GHZ** ou **Estado de Greenberger-Horne-Zeilinger**. Este estado na mecânica quântica, é um estado **emaranhado**, ou seja, de forma simplificada, o estado emaranhado é o estado onde duas entidades físicas estão \"fortemente correlacionadas\" de modo não é possível descrever uma das entidades sem que a outra entidade seja levada em consideração.\n",
    "\n",
    "Para o estado quântico de Greenberger-Horne-Zeilinger, temos que:\n",
    "\n",
    "$$GHZ = \\frac{1}{\\sqrt{d}}\\sum_{i=0}^{d-1}|i\\rangle\\otimes...\\otimes|i\\rangle = \\frac{1}{\\sqrt{d}}(|i\\rangle\\otimes...\\otimes|i\\rangle+...+|d-1\\rangle\\otimes...\\otimes|d-1\\rangle)$$\n",
    "\n",
    "A expressão acima representa a superposição de todos os estados para $d$ dimensões quaisquer. Um caso específico é dado para um sistema formado por **qubits**, a unidade fundamental da computação quântica (análoga ao bit clássico). Os **qubits** podem assumir os valores 0, 1 e a superposição desses valores, ou seja, 0 e 1 **simultaneamente**. Isso significa que estamos utilizando elementos da **base binária** $B=\\left \\{ 0,1 \\right \\}$ para a sua representação, de modo que a dimensão de um qubit é $d=2$, logo, 2 dimensões. Para o estado GHZ, isso se traduz como:\n",
    "\n",
    "Para $d=2$, então:\n",
    "\n",
    "$$GHZ = \\frac{1}{\\sqrt{2}}\\sum_{i=0}^{1}|i\\rangle\\otimes...\\otimes|i\\rangle = \\frac{1}{\\sqrt{2}}(|0\\rangle\\otimes...\\otimes|0\\rangle+|1\\rangle\\otimes...\\otimes|1\\rangle)$$\n",
    "\n",
    "Perceba que neste estado emaranhado, o estado $|0\\rangle$ e $|1\\rangle$ se repetem uma quantidade $n$ vezes arbitrária: $|0\\rangle\\otimes...\\otimes|0\\rangle$ e $|1\\rangle\\otimes...\\otimes|1\\rangle$. Então, podemos simplificar esta notação da seguinte forma:\n",
    "\n",
    "$$|0\\rangle\\otimes...\\otimes|0\\rangle = |0\\rangle^{\\otimes n}$$\n",
    "$$|1\\rangle\\otimes...\\otimes|1\\rangle = |1\\rangle^{\\otimes n}$$\n",
    "\n",
    "De forma que o nosso estado GHZ pode ser representado para $d=2$ como:\n",
    "\n",
    "$$GHZ = \\frac{1}{\\sqrt{2}}(|0\\rangle^{\\otimes n} + |1\\rangle^{\\otimes n})$$\n",
    "\n",
    "Agora, nós podemos definir qualquer valor para $n\\in\\mathbb{N}$. Neste exemplo, vamos utilizar $n = 3$, de modo que:\n",
    "\n",
    "$$GHZ = \\frac{1}{\\sqrt{2}}(|0\\rangle^{\\otimes 3} + |1\\rangle^{\\otimes 3}) = \\frac{1}{\\sqrt{2}}(|0\\rangle\\otimes|0\\rangle\\otimes|0\\rangle + |1\\rangle\\otimes|1\\rangle\\otimes|1\\rangle) = \\frac{1}{\\sqrt{2}}(|000\\rangle + |111\\rangle)$$\n",
    "\n",
    "$$GHZ =\\frac{1}{\\sqrt{2}}(|000\\rangle + |111\\rangle)$$"
   ]
  },
  {
   "cell_type": "markdown",
   "id": "7de78c29-b712-45ea-a1a4-bc984dbadbbd",
   "metadata": {},
   "source": [
    "#### Criando os gates do circuito Greenberger-Horne-Zeilinger\n",
    "Agora que nós conhecemos o estado GHZ para $d=2$ e um $n$ arbitrário, podemos começar a modelar o circuito com os gates necessários para chegar no **estado quântico emaranhado**.\n",
    "\n",
    "Este estado, basicamente vai precisar de 1 gate **Hadamard** e 2 **Controlled-X Gates**. Abaixo temos a representação matricial destes dois gates:\n",
    "\n",
    "\n",
    "$$H = \\frac{1}{\\sqrt{2}}\\begin{bmatrix}1 & 1\\\\ 1 & -1 \\end{bmatrix}$$\n",
    "\n",
    "$$CNOT(q_0,q_1) =\\begin{bmatrix}1 &  0&  0& 0\\\\ 0&  0&  0& 1\\\\ 0&  0&  1& 0\\\\ 0&  1&  0& 0\\end{bmatrix}$$\n",
    "\n",
    "ou\n",
    "\n",
    "$$CNOT(q_1,q_0) =\\begin{bmatrix}\n",
    "0 &  0&  1& 0\\\\ \n",
    "0 &  1&  0& 0\\\\ \n",
    "1 &  0&  0& 0\\\\ \n",
    "0 &  0&  0& 1\n",
    "\\end{bmatrix}$$\n",
    "\n",
    "O código abaixo adiciona os gates Hadamard e CNOT descritos acima:"
   ]
  },
  {
   "cell_type": "code",
   "execution_count": 4,
   "id": "835352de-d756-432d-8345-b19977de83ba",
   "metadata": {},
   "outputs": [
    {
     "data": {
      "text/plain": [
       "<qiskit.circuit.instructionset.InstructionSet at 0x20621415dc0>"
      ]
     },
     "execution_count": 4,
     "metadata": {},
     "output_type": "execute_result"
    }
   ],
   "source": [
    "# Adicionar o Hadamard Gate no qubit 0, colocando este qubit no estado de superposição\n",
    "circuit.h(0)\n",
    "# Adicionar o Controlled-X Gate com o qubit de controle 0 e como alvo o qubit 1, colocando estes qubits em um Estado de Bell\n",
    "circuit.cx(0, 1)\n",
    "# Adicionar o Controlled-X Gate com o qubit de controle 0 e como alvo o qubit 2, colocando estes qubits em um estado de GHZ\n",
    "circuit.cx(0, 2)"
   ]
  },
  {
   "cell_type": "markdown",
   "id": "b6d512cc-7bcb-47e4-9fec-5d18fa1a86d2",
   "metadata": {},
   "source": [
    "Vamos agora visualizar o circuito quântico construído até o momento, para isso, usando a função **draw()** fornecida pela biblioteca do Qiskit:"
   ]
  },
  {
   "cell_type": "code",
   "execution_count": 5,
   "id": "e07a3a1a-489c-4244-bc35-f84fdeb532f6",
   "metadata": {},
   "outputs": [
    {
     "data": {
      "image/png": "[encoded data removed]",
      "text/plain": [
       "<Figure size 267.197x204.68 with 1 Axes>"
      ]
     },
     "execution_count": 5,
     "metadata": {},
     "output_type": "execute_result"
    }
   ],
   "source": [
    "circuit.draw('mpl')"
   ]
  },
  {
   "cell_type": "markdown",
   "id": "455ebe7d-12bc-4952-99bc-67850140904b",
   "metadata": {},
   "source": [
    "Este circuito constrói o nosso **estado de emaranhamento quântico de GHZ**. Agora, podemos realizar a **medição** dos resultados:"
   ]
  },
  {
   "cell_type": "code",
   "execution_count": 6,
   "id": "07c14e76-034c-4875-84bf-25356075b0dc",
   "metadata": {},
   "outputs": [
    {
     "name": "stdout",
     "output_type": "stream",
     "text": [
      "[0.707+0.j 0.   +0.j 0.   +0.j 0.   +0.j 0.   +0.j 0.   +0.j 0.   +0.j\n",
      " 0.707+0.j]\n"
     ]
    }
   ],
   "source": [
    "backend = Aer.get_backend('statevector_simulator')\n",
    "job = backend.run(circuit)\n",
    "result = job.result()\n",
    "outputstate = result.get_statevector(circuit, decimals=3)\n",
    "print(outputstate)"
   ]
  },
  {
   "cell_type": "markdown",
   "id": "30e34df4-9f68-4b04-a0f6-9a52dab10276",
   "metadata": {},
   "source": [
    "#### Estudo analítico do Estado Greenberger-Horne-Zeilinger\n",
    "\n",
    "Podemos também resolver este problema analiticamente usando os conceitos de **álgebra linear**. Inicialmente, sabemos que os qubits $q_{0}$, $q_{1}$ e $q_{2}$ estão inicializados no estado $|0\\rangle$, representando-os da seguinte forma:\n",
    "\n",
    "$$q_{0}=|0\\rangle =\\begin{pmatrix}1\\\\ 0\\end{pmatrix}$$\n",
    "\n",
    "$$q_{1}=|0\\rangle =\\begin{pmatrix}1\\\\ 0\\end{pmatrix}$$\n",
    "\n",
    "$$q_{2}=|0\\rangle =\\begin{pmatrix}1\\\\ 0\\end{pmatrix}$$\n",
    "\n",
    "Então, vamos definir um estado $|\\psi_{0}\\rangle$ que vai corresponder à aplicação do primeiro gate (Hadamard), que será dado por:\n",
    "\n",
    "$$|\\psi_{0}\\rangle = |0\\rangle\\otimes|0\\rangle\\otimes H|0\\rangle$$\n",
    "\n",
    "$$|\\psi_{0}\\rangle =\\begin{pmatrix}1\\\\ 0\\end{pmatrix}\\otimes\\begin{pmatrix}1\\\\ 0\\end{pmatrix}\\otimes\\frac{1}{\\sqrt{2}}\\begin{pmatrix}1 & 1\\\\ 1 & -1\\end{pmatrix}\\begin{pmatrix}1\\\\ 0\\end{pmatrix}$$\n",
    "\n",
    "Primeiro, vamos realizar a multiplicação da matriz de Hadamard com a matriz coluna que representa o estado 0:\n",
    "\n",
    "$$|\\psi_{0}\\rangle = \\begin{pmatrix}1\\\\ 0\\end{pmatrix}\\otimes\\begin{pmatrix}1\\\\ 0\\end{pmatrix}\\frac{1}{\\sqrt{2}}\\begin{pmatrix}1\\\\ 1\\end{pmatrix}$$\n",
    "\n",
    "Agora podemos realizar o cálculo tensorial entre as matrizes:\n",
    "\n",
    "$$|\\psi_{0}\\rangle = \\frac{1}{\\sqrt{2}} \\begin{pmatrix}1 &  1&  0&  0&  0&  0&  0& 0 \\end{pmatrix}^{T} $$"
   ]
  },
  {
   "cell_type": "markdown",
   "id": "83b127d6-4003-430e-be8b-1e4daabdfa51",
   "metadata": {},
   "source": [
    "Vamos verificar este resultado segmentando o circuito:"
   ]
  },
  {
   "cell_type": "code",
   "execution_count": 12,
   "id": "9ab666e7-8186-464b-83aa-5dc28b7a5951",
   "metadata": {},
   "outputs": [
    {
     "data": {
      "text/latex": [
       "$$\n",
       "\n",
       "\\begin{bmatrix}\n",
       "\\tfrac{1}{\\sqrt{2}} & \\tfrac{1}{\\sqrt{2}} & 0 & 0 & 0 & 0 & 0 & 0  \\\\\n",
       " \\end{bmatrix}\n",
       "$$"
      ],
      "text/plain": [
       "<IPython.core.display.Latex object>"
      ]
     },
     "execution_count": 12,
     "metadata": {},
     "output_type": "execute_result"
    }
   ],
   "source": [
    "#Primeira parte do circuito\n",
    "circuit = QuantumCircuit(n)\n",
    "# Adicionar o Hadamard Gate no qubit 0, colocando este qubit no estado de superposição\n",
    "circuit.h(0)\n",
    "backend = Aer.get_backend('statevector_simulator')\n",
    "job = backend.run(circuit)\n",
    "result = job.result()\n",
    "outputstate = result.get_statevector(circuit, decimals=3)\n",
    "\n",
    "state = Statevector.from_int(0, 2**3)\n",
    "state = state.evolve(circuit)\n",
    "state.draw('latex')"
   ]
  },
  {
   "cell_type": "code",
   "execution_count": 8,
   "id": "6f590f37-19b4-4e7d-bc17-b59f0cdcd3d5",
   "metadata": {},
   "outputs": [
    {
     "data": {
      "image/png": "[encoded data removed]",
      "text/plain": [
       "<Figure size 146.797x204.68 with 1 Axes>"
      ]
     },
     "execution_count": 8,
     "metadata": {},
     "output_type": "execute_result"
    }
   ],
   "source": [
    "circuit.draw('mpl')"
   ]
  },
  {
   "cell_type": "markdown",
   "id": "17b12d0b-41cb-419f-8f3a-ba1e33bd1a2a",
   "metadata": {},
   "source": [
    "Agora podemos calcular o próximo estado na sequência do circuito, aqui denominado de $|\\psi_{1}\\rangle$ onde iremos adicionar o primeiro Controlled-X Gate:"
   ]
  },
  {
   "cell_type": "markdown",
   "id": "5f4b99c1-86fd-4d6e-8bec-04f0363ac182",
   "metadata": {},
   "source": [
    "O primeiro Controlled-X Gate, tem como qubit \"controlador\" o qubit $q_{0}$, enquanto o qubit \"alvo\" será o qubit $q_{1}$. Vamos então aplicar o Controller-X Gate no nosso estado $|\\psi_{0}\\rangle$:\n",
    "\n",
    "$$|\\psi_{1}\\rangle=C_{x}|\\psi_{0}\\rangle=|0\\rangle\\otimes \\begin{bmatrix}1 &  0&  0& 0\\\\ 0&  0&  0& 1\\\\ 0&  0&  1& 0\\\\ 0&  1&  0& 0\\end{bmatrix} (|0\\rangle \\otimes H|0\\rangle)=\\begin{bmatrix}1\\\\0\\end{bmatrix}\\otimes \\begin{bmatrix}1 &  0&  0& 0\\\\ 0&  0&  0& 1\\\\ 0&  0&  1& 0\\\\ 0&  1&  0& 0\\end{bmatrix} \\left ( \\begin{bmatrix}\n",
    "1\\\\ \n",
    "0\n",
    "\\end{bmatrix}  \\otimes \\frac{1}{\\sqrt{2}}\\begin{bmatrix}\n",
    "1 & 1\\\\ \n",
    "1 & -1\n",
    "\\end{bmatrix}\\begin{bmatrix}1\\\\0\\end{bmatrix} \\right)$$\n",
    "\n",
    "$$|\\psi_{1}\\rangle=C_{x}|\\psi_{0}\\rangle=\\begin{bmatrix}1\\\\0\\end{bmatrix} \\otimes \\frac{1}{\\sqrt{2}}.\\begin{bmatrix}1 &  0&  0& 0\\\\ 0&  0&  0& 1\\\\ 0&  0&  1& 0\\\\ 0&  1&  0& 0\\end{bmatrix}.\\begin{bmatrix}\n",
    "1\\\\ \n",
    "1\\\\ \n",
    "0\\\\ \n",
    "0\n",
    "\\end{bmatrix} = \\begin{bmatrix}1\\\\ 0\\end{bmatrix} \\otimes \\frac{1}{\\sqrt{2}}.\\begin{bmatrix}\n",
    "1\\\\ \n",
    "0\\\\ \n",
    "0\\\\ \n",
    "1\n",
    "\\end{bmatrix} = \\frac{1}{\\sqrt{2}}.\\begin{pmatrix}\n",
    "1 &  0&  0&  1&  0&  0&  0& 0 \n",
    "\\end{pmatrix}^{T}$$"
   ]
  },
  {
   "cell_type": "markdown",
   "id": "3d00ba90-6e52-4ed8-912c-5c8ea9b459e8",
   "metadata": {},
   "source": [
    "Novamente, vamos validar se este resultado está coerente com o esperado para o novo estado $|\\psi_{1}\\rangle$"
   ]
  },
  {
   "cell_type": "code",
   "execution_count": 15,
   "id": "56326cd5-11ed-4bb9-b9c6-04c63978a5a6",
   "metadata": {},
   "outputs": [
    {
     "data": {
      "text/latex": [
       "$$\n",
       "\n",
       "\\begin{bmatrix}\n",
       "\\tfrac{1}{\\sqrt{2}} & 0 & 0 & \\tfrac{1}{\\sqrt{2}} & 0 & 0 & 0 & 0  \\\\\n",
       " \\end{bmatrix}\n",
       "$$"
      ],
      "text/plain": [
       "<IPython.core.display.Latex object>"
      ]
     },
     "execution_count": 15,
     "metadata": {},
     "output_type": "execute_result"
    }
   ],
   "source": [
    "#Primeira parte do circuito\n",
    "circuit = QuantumCircuit(n)\n",
    "# Adicionar o Hadamard Gate no qubit 0, colocando este qubit no estado de superposição\n",
    "circuit.h(0)\n",
    "# Adicionar o Controlled-X Gate com o qubit de controle 0 e como alvo o qubit 1, colocando estes qubits em um Estado de Bell\n",
    "circuit.cx(0, 1)\n",
    "backend = Aer.get_backend('statevector_simulator')\n",
    "job = backend.run(circuit)\n",
    "result = job.result()\n",
    "outputstate = result.get_statevector(circuit, decimals=3)\n",
    "\n",
    "state = Statevector.from_int(0, 2**3)\n",
    "state = state.evolve(circuit)\n",
    "state.draw('latex')"
   ]
  },
  {
   "cell_type": "code",
   "execution_count": 14,
   "id": "6e884621-1a7f-4ff0-9bb4-bddd02f4c701",
   "metadata": {},
   "outputs": [
    {
     "data": {
      "image/png": "[encoded data removed]",
      "text/plain": [
       "<Figure size 206.997x204.68 with 1 Axes>"
      ]
     },
     "execution_count": 14,
     "metadata": {},
     "output_type": "execute_result"
    }
   ],
   "source": [
    "circuit.draw('mpl')"
   ]
  },
  {
   "cell_type": "markdown",
   "id": "7620031a-982d-4dd5-97f4-b9d9066628c1",
   "metadata": {},
   "source": [
    "A última etapa deste estudo agora é aplicar o último Controlled-X Gate no nosso circuito quântico e então chegar no resultado esperado. Para isso, vamos agora criar o novo estado $|\\psi_{2}\\rangle$. Para este estado $|\\psi_{2}\\rangle$, vamos ter o qubit de controle $q_{0}$ e o qubit alvo sendo o qubit $q_{2}$. É importante observar que neste caso, os dois qubits não são adjacentes, de modo que a nossa matriz de controle irá ter uma dimensão maior do que anteriormente. Sendo assim, temos:\n",
    "\n",
    "Lembrando que:\n",
    "\n",
    "$$|\\psi_{1}\\rangle = \\frac{1}{\\sqrt{2}}.\\begin{pmatrix}\n",
    "1 &  0&  0&  1&  0&  0&  0& 0 \n",
    "\\end{pmatrix}^{T}$$\n",
    "\n",
    "Então basta realizarmos a multiplicação matricial:\n",
    "\n",
    "$$|\\psi_{2}\\rangle=C_{x}|\\psi_{1}\\rangle=\\frac{1}{\\sqrt{2}}.\\begin{bmatrix}\n",
    "1 &  0&  0&  0&  0&  0&  0& 0\\\\ \n",
    "0 &  0&  0&  0&  0&  1&  0& 0\\\\ \n",
    "0 &  0&  1&  0&  0&  0&  0& 0\\\\ \n",
    "0 &  0&  0&  0&  0&  0&  0& 1\\\\ \n",
    "0 &  0&  0&  0&  1&  0&  0& 0\\\\ \n",
    "0 &  1&  0&  0&  0&  0&  0& 0\\\\ \n",
    "0 &  0&  0&  0&  0&  0&  1& 0\\\\ \n",
    "0 &  0&  0&  1&  0&  0&  0& 0\n",
    "\\end{bmatrix}.\\begin{bmatrix}\n",
    "1\\\\ \n",
    "0\\\\ \n",
    "0\\\\ \n",
    "1\\\\ \n",
    "0\\\\ \n",
    "0\\\\ \n",
    "0\\\\\n",
    "0\n",
    "\\end{bmatrix}=\\frac{1}{\\sqrt{2}}.\\begin{bmatrix}\n",
    "1\\\\ \n",
    "0\\\\ \n",
    "0\\\\ \n",
    "0\\\\ \n",
    "0\\\\ \n",
    "0\\\\ \n",
    "0\\\\\n",
    "1\n",
    "\\end{bmatrix}$$\n",
    "\n",
    "Esta matriz pode ser representada agora em termos dos estados que será dado por:\n",
    "\n",
    "$$|\\psi_{2}\\rangle = \\frac{1}{\\sqrt{2}}\\left (|000\\rangle + |111\\rangle  \\right )$$\n",
    "\n",
    "Dado que:\n",
    "\n",
    "$$|000\\rangle = \\begin{bmatrix}\n",
    "1\\\\ \n",
    "0\\\\ \n",
    "0\\\\ \n",
    "0\\\\ \n",
    "0\\\\ \n",
    "0\\\\ \n",
    "0\\\\\n",
    "0\n",
    "\\end{bmatrix}$$\n",
    "\n",
    "$$|111\\rangle = \\begin{bmatrix}\n",
    "0\\\\ \n",
    "0\\\\ \n",
    "0\\\\ \n",
    "0\\\\ \n",
    "0\\\\ \n",
    "0\\\\ \n",
    "0\\\\\n",
    "1\n",
    "\\end{bmatrix}$$\n",
    "\n",
    "Logo, o nosso estado $|\\psi_{2}\\rangle$ corresponde ao nosso **estado quântico emaranhado** de Greenbergen-Horne-Zeilinger (GHZ)"
   ]
  },
  {
   "cell_type": "code",
   "execution_count": 11,
   "id": "ae998c44-624f-42fd-9b13-59f41c224e44",
   "metadata": {},
   "outputs": [
    {
     "data": {
      "text/latex": [
       "$$\n",
       "\n",
       "\\begin{bmatrix}\n",
       "\\tfrac{1}{\\sqrt{2}} & 0 & 0 & 0 & 0 & 0 & 0 & \\tfrac{1}{\\sqrt{2}}  \\\\\n",
       " \\end{bmatrix}\n",
       "$$"
      ],
      "text/plain": [
       "<IPython.core.display.Latex object>"
      ]
     },
     "execution_count": 11,
     "metadata": {},
     "output_type": "execute_result"
    }
   ],
   "source": [
    "#Primeira parte do circuito\n",
    "circuit = QuantumCircuit(n)\n",
    "# Adicionar o Hadamard Gate no qubit 0, colocando este qubit no estado de superposição\n",
    "circuit.h(0)\n",
    "# Adicionar o Controlled-X Gate com o qubit de controle 0 e como alvo o qubit 1, colocando estes qubits em um Estado de Bell\n",
    "circuit.cx(0, 1)\n",
    "circuit.cx(0, 2)\n",
    "backend = Aer.get_backend('statevector_simulator')\n",
    "job = backend.run(circuit)\n",
    "result = job.result()\n",
    "outputstate = result.get_statevector(circuit, decimals=3)\n",
    "\n",
    "state = Statevector.from_int(0, 2**3)\n",
    "state = state.evolve(circuit)\n",
    "state.draw('latex')"
   ]
  },
  {
   "cell_type": "code",
   "execution_count": 14,
   "id": "c6b6b024-ad8f-4ed0-9d7f-300e7b57d34f",
   "metadata": {},
   "outputs": [
    {
     "data": {
      "image/png": "[encoded data removed]",
      "text/plain": [
       "<Figure size 267.197x204.68 with 1 Axes>"
      ]
     },
     "execution_count": 14,
     "metadata": {},
     "output_type": "execute_result"
    }
   ],
   "source": [
    "circuit.draw('mpl')"
   ]
  },
  {
   "cell_type": "markdown",
   "id": "7fe1c81d-59af-44fb-9bd2-d12587f0b1d9",
   "metadata": {},
   "source": [
    "### Referências\n",
    "https://qiskit.org/documentation/tutorials/circuits/1_getting_started_with_qiskit.html\n",
    "\n",
    "https://qiskit.org/documentation/tutorials/circuits_advanced/03_advanced_circuit_visualization.html\n",
    "\n",
    "https://hypescience.com/emaranhado-quantico-acabou-de-ser-diretamente-observado-em-uma-escala-macroscopica-maior/\n",
    "\n",
    "https://www.youtube.com/watch?v=g0FVmzkiUqU&ab_channel=QuantumComputing\n",
    "\n",
    "https://people.math.gatech.edu/~jeanbel/4782/Year09/problem207.pdf\n",
    "\n",
    "https://qiskit.org/documentation/tutorials/circuits/3_summary_of_quantum_operations.html\n",
    "\n",
    "https://quantumcomputing.stackexchange.com/questions/4252/how-to-derive-the-cnot-matrix-for-a-3-qubit-system-where-the-control-target-qu\n",
    "\n",
    "https://en.wikipedia.org/wiki/Controlled_NOT_gate\n",
    "\n",
    "https://hypescience.com/wp-content/uploads/2016/03/entrelacamento-quantico-a-olho-nu.jpg"
   ]
  }
 ],
 "metadata": {
  "kernelspec": {
   "display_name": "Python 3",
   "language": "python",
   "name": "python3"
  },
  "language_info": {
   "codemirror_mode": {
    "name": "ipython",
    "version": 3
   },
   "file_extension": ".py",
   "mimetype": "text/x-python",
   "name": "python",
   "nbconvert_exporter": "python",
   "pygments_lexer": "ipython3",
   "version": "3.8.8"
  }
 },
 "nbformat": 4,
 "nbformat_minor": 5
}
