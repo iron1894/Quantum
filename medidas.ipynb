{
 "cells": [
  {
   "cell_type": "markdown",
   "id": "5b9f2445-75f5-4fc1-a422-86a133294bd0",
   "metadata": {},
   "source": [
    "### Medidas usando Qiskit\n",
    "\n",
    "Este material irá mostrar como utilizar as ferramentas do qiskit para realizar as medições em circuitos quânticos. Junto com a parte prática, iremos mesclar parte da teoria das medidas em Mecânica Quântica para enriquecer mais o conteúdo aqui destacado.\n",
    "\n",
    "![](https://www.researchgate.net/profile/Dariusz-Kajtoch/publication/322963552/figure/fig1/AS:614087964774410@1523421388940/Schematic-representation-of-the-Mach-Zehnder-interferometer-Two-incoming-modes-are.png)\n",
    "\n",
    "A Mecânica Quântica é caracterizada pala **Probabilidade** e pela **Indeterminação**. Essas duas características contrastam com o que é conhecido na Mecânica Clássica. Ao se falar sobre Mecânica Quântica, estaremos envolvidos com um contexto **probabilístico** e **indeterminado**. Isso faz com que o conceito de **medida** tenha que ser reformulado aos moldes do domínio do conhecimento do \"universo subatômico\"."
   ]
  },
  {
   "cell_type": "markdown",
   "id": "b543d35c-07e7-4855-9f8f-b423206517e3",
   "metadata": {},
   "source": [
    "#### Características importantes das medições na Mecânica Quântica\n",
    "\n",
    "De acordo com o que foi abordado anteriormente, no começo deste material, é importante sempre levarmos em consideração que uma **medição** na Mecânica Quântica está sempre relacionada do conceito de **probabilidade** e **indeterminação**, o que a difere da Mecânica Clássica na maioria dos problemas físicos.\n",
    "\n",
    "Então, o que define probabilisticamente uma medição na Mecânica Quântica? Para achar a probabilidade da medição de um estado $|\\psi\\rangle$ no estado $|x\\rangle$ nós devemos calcular:\n",
    "\n",
    "$$p( |x\\rangle ) = |\\langle x|\\psi\\rangle|^2$$\n",
    "\n",
    "Onde na equação acima:\n",
    "\n",
    "* $|x\\rangle$ pode ser qualquer estado do qubit ($|0\\rangle$ ou $|1\\rangle$)\n",
    "* $|\\psi\\rangle$ é o estado que está sendo medido\n",
    "\n",
    "Vamos criar um exemplo:\n",
    "\n",
    "Suponhamos que nós estamos olhando para um estado $|q_{0}\\rangle$ e nós estamos interessados em saber qual é a probabilidade de medirmos o estado $|0\\rangle$ dado $|q_{0}\\rangle$. Então, basta realizarmos o seguinte cálculo:"
   ]
  }
 ],
 "metadata": {
  "kernelspec": {
   "display_name": "Python 3",
   "language": "python",
   "name": "python3"
  },
  "language_info": {
   "codemirror_mode": {
    "name": "ipython",
    "version": 3
   },
   "file_extension": ".py",
   "mimetype": "text/x-python",
   "name": "python",
   "nbconvert_exporter": "python",
   "pygments_lexer": "ipython3",
   "version": "3.8.8"
  }
 },
 "nbformat": 4,
 "nbformat_minor": 5
}
