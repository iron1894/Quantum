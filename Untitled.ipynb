{
 "cells": [
  {
   "cell_type": "markdown",
   "id": "9018623b-af8f-4c5e-b4a6-076dda6567eb",
   "metadata": {},
   "source": [
    "### Introdução à Computação Quântica - Controlled Not Gate (Parte I)\n",
    "\n",
    "![](https://miro.medium.com/max/810/0*6qh01lw6kdaC73KF.png)\n",
    "\n",
    "Este material faz parde do conteúdo de introdução à computação quântica e tem como objetivo familializar o leitor com os principais conceitos que envolvem este domínio do conhecimento. Em específico, este material vai destacar o uso de uma das portas (ou gates) fundamentais da computação quântica, conhecido como **Controlled Not Gate** ou **CNOT**. Para quem está iniciando sua jornada para conhecer mais sobre a construção de circuitos quânticos, se torna essencial conhecer estes gates para poder futuramente construir algoritmos mais complexos."
   ]
  },
  {
   "cell_type": "markdown",
   "id": "3f1e77fb-7116-4bf3-8245-01ca25cfe2c4",
   "metadata": {},
   "source": [
    "#### Controlled Not Gate ou CNOT\n",
    "\n",
    "No contexto da ciência da computação e da mecânica quântica, um **Controlled Not Gate** ou **CNOT** é uma das portas lógicas fundamentais para a construção de circuitos quânticos. Comumente, podemos encontrá-la em problemas que envolvem emaranhamento quântico (entangle e disentangle), como por exemplo, o **estado de Bell**."
   ]
  },
  {
   "cell_type": "markdown",
   "id": "aed05bf5-4357-486b-8fc9-95b3b413b7f2",
   "metadata": {},
   "source": [
    "#### Notação\n",
    "\n",
    "Um **Controlled Not Gate** ou **CNOT**, é representado da seguinte forma em um circuito quântico:\n",
    "\n",
    "![](https://i.stack.imgur.com/kHu5I.png)\n",
    "\n",
    "Perceba que esta porta atua em dois qubits, onde o primeiro qubit (representado por um ponto) é o qubit \"controlador\" (controller) enquanto o segundo qubit (representado por uma circunferência com um sinal de +) representa o qubit \"alvo\"ou \"controlado\" (target)"
   ]
  },
  {
   "cell_type": "markdown",
   "id": "f5c68f0b-748c-4c00-87e7-71a8989e626d",
   "metadata": {},
   "source": [
    "#### Definição\n",
    "\n",
    "Vamos agora definir a operação realizada pelo Controlled-X Gate. Este gate atua da seguinte forma nos qubits:\n",
    "\n",
    "Sejam dados dois qubits quaisquer adjacentes $q_{0}$ e $q_{1}$, então o Controlled-X gate opera:\n",
    "\n",
    "$$|q_{0}, q_{1}\\rangle \\mapsto |q_{0}, q_{0}\\oplus q_{1}\\rangle$$\n",
    "\n",
    "Onde o operador $\\oplus$ corresponde à operação XOR (ou exclusivo) dos circuitos clássicos. Podemos percecber que o primeiro qubit (aqui chamado de $q_{0}$ não altera o seu estado **(controller)** enquanto o segundo qubit (aqui chamado de $q_{1}$) tem o seu estado alterado devido a operação XOR clássica **(target)**"
   ]
  },
  {
   "cell_type": "markdown",
   "id": "b7b6874e-6bf6-4e19-985f-f3583464b1c5",
   "metadata": {},
   "source": [
    "#### Representação matricial do Controlled Not Gate (CNOT)\n",
    "\n",
    "Vamos agora obter a representação matricial do CNOT. Para isso, iremos usar a seguinte expressão para controlador de 2 qubits adjacentes:\n",
    "\n",
    "$$CU(0,1)=|0\\rangle\\langle0|\\otimes I + |1\\rangle\\langle1|\\otimes U$$\n",
    "$$CU(1,0)=|0\\rangle\\langle0|\\otimes I + |1\\rangle\\langle1|\\otimes U$$\n",
    "\n",
    "Onde $U=\\begin{bmatrix}u_{00}&u_{01}\\\\u_{01}&u_{11}\\end{bmatrix}$ é um **gate genérico** que vai operar no qubit target (controlado ou alvo). E $I$ é a matriz identidade.\n",
    "\n",
    "Como o nosso gate é um **CNOT**, então iremos substituir a matriz genérica $U$ por $X$. Onde o gate $X$ tem sua representação matricial dada por:\n",
    "\n",
    "$X=\\begin{bmatrix}0&1\\\\1&0\\end{bmatrix}$\n",
    "\n",
    "Vamos então reescrever as nossas equações genéricas levando em consideração o gate $X$:\n",
    "\n",
    "$$C_{x}(0,1)=|0\\rangle\\langle0|\\otimes I + |1\\rangle\\langle1|\\otimes X$$\n",
    "$$C_{x}(1,0)=|0\\rangle\\langle0|\\otimes I + |1\\rangle\\langle1|\\otimes X$$\n",
    "\n",
    "Agora nós temos as duas expressões necessárias para obter a expressão matricial do **CNOT**. Neste material, iremos representar o gate **CNOT** como sendo **$C_{x}(q_{0}, q_{1})$**"
   ]
  },
  {
   "cell_type": "markdown",
   "id": "ef58ddec-a0a2-414a-8383-eb738a050c8c",
   "metadata": {},
   "source": [
    "#### Forma matricial $C_{x}(0,1)$\n",
    "\n",
    "Vamos obter a versão matricial do gate $C_{x}(0,1)$:\n",
    "\n",
    "$C_{x}(0,1)=|0\\rangle\\langle0|\\otimes I + |1\\rangle\\langle1|\\otimes X = \n",
    "\\begin{bmatrix}1\\\\0\\end{bmatrix}\n",
    "\\begin{bmatrix}1&0\\end{bmatrix} \\otimes\n",
    "\\begin{bmatrix}1&0\\\\0&1\\end{bmatrix} + \n",
    "\\begin{bmatrix}0\\\\1\\end{bmatrix}\n",
    "\\begin{bmatrix}0&1\\end{bmatrix} \\otimes\n",
    "\\begin{bmatrix}0&1\\\\1&0\\end{bmatrix}$\n",
    "\n",
    "$C_{x}(0,1)=\\begin{bmatrix}1&0\\\\0&0\\end{bmatrix}\\otimes\n",
    "\\begin{bmatrix}1&0\\\\0&1\\end{bmatrix} + \n",
    "\\begin{bmatrix}0&0\\\\0&1\\end{bmatrix}\\otimes\n",
    "\\begin{bmatrix}0&1\\\\1&0\\end{bmatrix}$\n",
    "\n",
    "$C_{x}(0,1)=\\begin{bmatrix}1&0&0&0\\\\0&0&0&0\\\\0&0&1&0\\\\0&0&0&0\\end{bmatrix} + \n",
    "\\begin{bmatrix}0&0&0&0\\\\0&0&0&1\\\\0&0&0&0\\\\0&1&0&0\\end{bmatrix}$\n",
    "\n",
    "O resultado final é a matrix:\n",
    "\n",
    "$C_{x}(0,1)=\\begin{bmatrix}1&0&0&0\\\\0&0&0&1\\\\0&0&1&0\\\\0&1&0&0\\end{bmatrix}$"
   ]
  },
  {
   "cell_type": "markdown",
   "id": "2705108c-0736-45f6-9c4a-22d0bd0868b0",
   "metadata": {},
   "source": [
    "#### Forma matricial $C_{x}(1,0)$\n",
    "\n",
    "Vamos obter a versão matricial do gate $C_{x}(1,0)$:\n",
    "\n",
    "$C_{x}(1,0)=|1\\rangle\\langle1|\\otimes I + |0\\rangle\\langle0|\\otimes X = \n",
    "\\begin{bmatrix}0\\\\1\\end{bmatrix}\n",
    "\\begin{bmatrix}0&1\\end{bmatrix} \\otimes\n",
    "\\begin{bmatrix}1&0\\\\0&1\\end{bmatrix} + \n",
    "\\begin{bmatrix}1\\\\0\\end{bmatrix}\n",
    "\\begin{bmatrix}1&0\\end{bmatrix} \\otimes\n",
    "\\begin{bmatrix}0&1\\\\1&0\\end{bmatrix}$\n",
    "\n",
    "$C_{x}(1,0)=\\begin{bmatrix}0&0\\\\0&1\\end{bmatrix}\\otimes\n",
    "\\begin{bmatrix}1&0\\\\0&1\\end{bmatrix} + \n",
    "\\begin{bmatrix}1&0\\\\0&0\\end{bmatrix}\\otimes\n",
    "\\begin{bmatrix}0&1\\\\1&0\\end{bmatrix}$\n",
    "\n",
    "$C_{x}(1,0)=\\begin{bmatrix}0&0&0&0\\\\0&1&0&0\\\\0&0&0&0\\\\0&0&0&1\\end{bmatrix} + \n",
    "\\begin{bmatrix}0&0&1&0\\\\0&0&0&0\\\\1&0&0&0\\\\0&0&0&0\\end{bmatrix}$\n",
    "\n",
    "O resultado final é a matrix:\n",
    "\n",
    "$C_{x}(1,0)=\\begin{bmatrix}0&0&1&0\\\\0&1&0&0\\\\1&0&0&0\\\\0&0&0&1\\end{bmatrix}$\n"
   ]
  },
  {
   "cell_type": "markdown",
   "id": "84c70ce5-1a98-412b-bb98-9ec3702ab04c",
   "metadata": {},
   "source": [
    "#### Implementando o circuito\n",
    "Vamos agora construir os exemplos do circuito quântico usando o **CNOT**. Primeiramente, vamos precisar criar o nosso circuito com 2 qubits (aqui chamados de $q_{0}$ e $q_{1}$) e então aplicaremos o gate **CNOT**."
   ]
  },
  {
   "cell_type": "code",
   "execution_count": 1,
   "id": "2dee19ee-9e16-49c4-be62-18d15200eac3",
   "metadata": {},
   "outputs": [],
   "source": [
    "import numpy as np\n",
    "from qiskit import *\n",
    "from qiskit.quantum_info import Statevector"
   ]
  },
  {
   "cell_type": "markdown",
   "id": "78cf2db2-c9dc-4e8d-9683-ea5facbbc2e8",
   "metadata": {},
   "source": [
    "#### Exemplo 1\n",
    "O primeiro exemplo tem os seguintes parâmetros de entrada:\n",
    "\n",
    "$|q_{0}\\rangle=|0\\rangle$\n",
    "\n",
    "$|q_{1}\\rangle=|0\\rangle$\n",
    "\n",
    "Significa que o qubit $q_{0}$ foi inicializado no estado $|0\\rangle$ e o qubit $q_{1}$ foi inicializado no estado $|0\\rangle$"
   ]
  },
  {
   "cell_type": "code",
   "execution_count": 2,
   "id": "ed64364b-ef23-458f-b6b5-c05f82ce0040",
   "metadata": {},
   "outputs": [],
   "source": [
    "#total de qubits que pertencem ao circuito quântico\n",
    "n = 2\n",
    "#instância do circuito quântico com n qubits\n",
    "circuit = QuantumCircuit(n)"
   ]
  },
  {
   "cell_type": "code",
   "execution_count": null,
   "id": "713fc166-a99a-4033-9900-3f9fc5cd1b3f",
   "metadata": {},
   "outputs": [],
   "source": [
    "#para adicionar o CNOT, o primeiro parâmetro da função 'cx' é a posição do qubit"
   ]
  }
 ],
 "metadata": {
  "kernelspec": {
   "display_name": "Python 3",
   "language": "python",
   "name": "python3"
  },
  "language_info": {
   "codemirror_mode": {
    "name": "ipython",
    "version": 3
   },
   "file_extension": ".py",
   "mimetype": "text/x-python",
   "name": "python",
   "nbconvert_exporter": "python",
   "pygments_lexer": "ipython3",
   "version": "3.8.8"
  }
 },
 "nbformat": 4,
 "nbformat_minor": 5
}
