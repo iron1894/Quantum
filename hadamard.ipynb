{
 "cells": [
  {
   "cell_type": "markdown",
   "id": "a2fda610-20e2-4785-91fc-751adf363830",
   "metadata": {},
   "source": [
    "### Gate de Hadamard\n",
    "\n",
    "Neste material, nós iremos explicar brevemente o funcionamento do **gate de Hadamard** e criar alguns exemplos de uso deste gate dentro dos circuitos quânticos.\n",
    "\n",
    "O **gate de Hadamard** é um gate amplamente utilizado nos circuitos quânticos e muito útil para criar estados de superposição. Este gate não tem análogos com os gates clássicos que habitualmente já conhecemos, por exemplo, nos circuitos digitais. Também é importante destacar que o **gate de Hadamard** atua exclusivamente em apenas **1 qubit**.\n",
    "\n",
    "Vamos então começar a explorar um pouco mais sobre este gate e a sua origem:"
   ]
  },
  {
   "cell_type": "markdown",
   "id": "eb62602e-6033-4241-831a-07ead8ef37d0",
   "metadata": {},
   "source": [
    "#### Contexto histórico\n",
    "\n",
    "Na matemática, uma matriz de Hadamard, nome cunhado devido ao matemático francês Jacques Hadamard, é uma matriz quadrada que tem como elementos apenas os valores 1 e -1 e cuja as linhas são mutuamente ortogonais. Em termos geométricos, isso significa que cada par de linhas em uma matriz de Hadamard representa dois vetores perpendiculares.\n",
    "\n",
    "Um exemplo de matriz de Hadamard 2x2 é apresentada abaixo:\n",
    "\n",
    "$$H = \\begin{pmatrix} 1&1 \\\\ 1&-1 \\end{pmatrix}$$"
   ]
  },
  {
   "cell_type": "markdown",
   "id": "597f69fa-09ba-448e-a8cf-5cb4bff679b7",
   "metadata": {},
   "source": [
    "#### Propriedades da matriz de Hadamard\n",
    "\n",
    "Agora, vamos apresentar algumas das propriedades da matriz de Hadamard:\n",
    "\n",
    "**Primeira propriedade: $HH^{T} = n.I_{n}$**\n",
    "\n",
    "Onde $H$ representa a matriz de Hadamard, $n$ representa a dimensão quadrática da matriz e $I_{n}$ a matriz identidade.\n",
    "\n",
    "Um exemplo numérico é apresentado abaixo para uma matriz de Hadamard 2x2:"
   ]
  },
  {
   "cell_type": "code",
   "execution_count": 5,
   "id": "c0ab9966-1b3a-4d98-aabe-6448dbf7a7f5",
   "metadata": {},
   "outputs": [],
   "source": [
    "import numpy as np"
   ]
  },
  {
   "cell_type": "code",
   "execution_count": 23,
   "id": "9ecf56d5-fd32-4582-a9c9-7a1616ad3fc3",
   "metadata": {},
   "outputs": [],
   "source": [
    "# matriz de hadamard de tamanho 2x2\n",
    "H = np.asarray([[1,1],[1,-1]])\n",
    "\n",
    "#multiplicacao matricial da matriz de Hadamard 2x2 com a sua transposta\n",
    "U = np.matmul(H, np.transpose(H))\n",
    "\n",
    "# definicao do parâmetro n que representa a dimensão da matriz quadrática\n",
    "n = 2\n",
    "\n",
    "# matriz identidade\n",
    "I = np.asarray([[1,0],[0,1]])\n",
    "V = n * I"
   ]
  },
  {
   "cell_type": "markdown",
   "id": "fe982d21-03d8-4687-8285-961eccbb3a6e",
   "metadata": {},
   "source": [
    "O resultado da igualdade da primeira propriedade é mostrada abaixo:"
   ]
  },
  {
   "cell_type": "code",
   "execution_count": 17,
   "id": "9ded6fd9-60f8-4844-8d6d-dfecdbedcbcb",
   "metadata": {},
   "outputs": [
    {
     "name": "stdout",
     "output_type": "stream",
     "text": [
      "Resultado da primeira operação: \n"
     ]
    },
    {
     "data": {
      "text/plain": [
       "array([[2, 0],\n",
       "       [0, 2]])"
      ]
     },
     "execution_count": 17,
     "metadata": {},
     "output_type": "execute_result"
    }
   ],
   "source": [
    "print(\"Resultado da primeira operação: \")\n",
    "U"
   ]
  },
  {
   "cell_type": "code",
   "execution_count": 18,
   "id": "9acff732-9012-42c1-acc0-8ee17ce3ffd6",
   "metadata": {},
   "outputs": [
    {
     "name": "stdout",
     "output_type": "stream",
     "text": [
      "Resultado da segunda operação: \n"
     ]
    },
    {
     "data": {
      "text/plain": [
       "array([[2, 0],\n",
       "       [0, 2]])"
      ]
     },
     "execution_count": 18,
     "metadata": {},
     "output_type": "execute_result"
    }
   ],
   "source": [
    "print(\"Resultado da segunda operação: \")\n",
    "V"
   ]
  },
  {
   "cell_type": "markdown",
   "id": "09dea362-ca39-4ef8-853a-6b803f5141f4",
   "metadata": {},
   "source": [
    "Vamos então realizar os calculos da primeira propriedade:\n",
    "\n",
    "* para $n = 2$, temos:\n",
    "\n",
    "$H = \\begin{pmatrix}1&1\\\\1&-1\\end{pmatrix}$ e $I = \\begin{pmatrix}1&0\\\\0&1 \\end{pmatrix}$\n",
    "\n",
    "$H.H^{T} = n.I_{n}$\n",
    "\n",
    "$H.H^{T} = 2.I_{2}$\n",
    "\n",
    "$\\begin{pmatrix}1&1\\\\1&-1\\end{pmatrix}\\begin{pmatrix}1&1\\\\1&-1\\end{pmatrix} = 2.\\begin{pmatrix}1&0\\\\0&1 \\end{pmatrix}$\n",
    "\n",
    "$\\begin{pmatrix}2&0\\\\0&2\\end{pmatrix} = \\begin{pmatrix}2&0\\\\0&2\\end{pmatrix}$\n",
    "\n",
    "Onde assim podemos verificar a validade da igualdade"
   ]
  },
  {
   "cell_type": "markdown",
   "id": "b1c45d34-ab22-4a90-bf5e-300325a3473f",
   "metadata": {},
   "source": [
    "**Segunda propriedade: $det(H)=\\pm n^{n/2}$**\n",
    "\n",
    "Onde $H$ representa a matriz de Hadamard e $n$ representa a dimensão da matriz quadrática.\n",
    "\n",
    "Um exemplo numérico é apresentado abaixo para uma matriz de Hadamard 2x2:"
   ]
  },
  {
   "cell_type": "code",
   "execution_count": 28,
   "id": "f9e54810-3513-4576-b11a-01f8a79c4717",
   "metadata": {},
   "outputs": [
    {
     "name": "stdout",
     "output_type": "stream",
     "text": [
      "O resultado do primeiro membro da propriedade:  -2.0  e do segundo membro da propriedade: (+/-) 2.0\n"
     ]
    }
   ],
   "source": [
    "# dimensão da matriz quadrática de hadamard\n",
    "n = 2\n",
    "\n",
    "# matriz de hadamard de tamanho 2x2\n",
    "H = np.asarray([[1,1],[1,-1]])\n",
    "\n",
    "# cálculo do determinante da matriz de hadamard 2x2 \n",
    "d = np.linalg.det(H)\n",
    "\n",
    "# cálculo do segundo membro da equação da segunda propriedade\n",
    "v = n**(n/2)\n",
    "\n",
    "print(\"O resultado do primeiro membro da propriedade: \", d, \" e do segundo membro da propriedade: (+/-)\", v)"
   ]
  },
  {
   "cell_type": "markdown",
   "id": "c8722907-41ef-4b0a-9cfa-46cdde4d6d2d",
   "metadata": {},
   "source": [
    "### Construção de Sylvester\n",
    "\n",
    "As matrizes de Hadamard podem ser construídas para qualquer dimensão $n$, tal que $n=2^{k}, k \\in \\mathbb{N}$. Sylvester propôs a seguinte forma de representar as matrizes de Hadamard:\n",
    "\n",
    "$H_{1}=\\begin{bmatrix}1\\end{bmatrix}$\n",
    "\n",
    "$H_{2}=\\begin{bmatrix}1&1\\\\1&-1\\end{bmatrix}$\n",
    "\n",
    "$H_{4}=\\begin{bmatrix}1&1&1&1\\\\1&-1&1&-1\\\\1&1&-1&-1\\\\1&-1&-1&1\\end{bmatrix}$\n",
    "\n",
    "De forma geral, uma matriz de Hadamard de dimensão n, pode ser representada como:\n",
    "\n",
    "$H_{2^{k}}=\\begin{bmatrix}H_{2^{k-1}}&H_{2^{k-1}} \\\\ H_{2^{k-1}}&H_{2^{k-1}}\\end{bmatrix} = H_{2} \\otimes H_{2^{k-1}}$"
   ]
  },
  {
   "cell_type": "markdown",
   "id": "0d3a721d-2f66-4cad-aaba-fa536a052b52",
   "metadata": {},
   "source": [
    "### Referências\n",
    "https://en.wikipedia.org/wiki/Hadamard_matrix"
   ]
  }
 ],
 "metadata": {
  "kernelspec": {
   "display_name": "Python 3",
   "language": "python",
   "name": "python3"
  },
  "language_info": {
   "codemirror_mode": {
    "name": "ipython",
    "version": 3
   },
   "file_extension": ".py",
   "mimetype": "text/x-python",
   "name": "python",
   "nbconvert_exporter": "python",
   "pygments_lexer": "ipython3",
   "version": "3.8.8"
  }
 },
 "nbformat": 4,
 "nbformat_minor": 5
}
